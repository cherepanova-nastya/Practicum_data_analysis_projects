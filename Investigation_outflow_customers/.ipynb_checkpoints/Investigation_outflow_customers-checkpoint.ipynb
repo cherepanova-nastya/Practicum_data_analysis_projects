{
 "cells": [
  {
   "cell_type": "markdown",
   "metadata": {},
   "source": [
    "<font color='blue'> \n",
    "### <u>КОММЕНТАРИЙ РЕВЬЮЕРА</u>\n",
    "</font>\n",
    "\n",
    "<font color='blue'>\n",
    "<br />\n",
    "Анастасия, привет! рад опять приветствовать тебя! <br />\n",
    "<br />    \n",
    "\n",
    "<br />\n",
    "Меня зовут Николай. <br />И на этом этапе твоего движения к новой профессии от меня будут комментарии по написанному коду. <br />Чтобы меньше \"мусорить эфир\" и чтобы максимально наглядно отделяться от основного кода, есть предложение условиться в некоторых обозначениях:<br /> <br />\n",
    "<u><b>ТАКОЙ ШРИФТ</b></u> - всегда начало комментария <br />\n",
    "<font color='green'>такой шрифт</font> - комментарии о том, что всё ОК <br/>\n",
    "<font color='orange'>такой шрифт</font> - комментарии о том, что всё ОК по результату,<br> однако есть на что обратить внимание в плане применения техник, или есть способы сделать более короткий или быстрый код <br/>\n",
    "<font color='red'>такой шрифт</font> - комментарии о том, что есть критичный момент, влияющий на бизнес-результат проекта.<br/>\n",
    "</font><br /><br />"
   ]
  },
  {
   "cell_type": "markdown",
   "metadata": {},
   "source": [
    "Привет, Николай!) Ответила на вопросы, <font color=purple>выделив их сиреневым цветом)</font>"
   ]
  },
  {
   "cell_type": "markdown",
   "metadata": {},
   "source": [
    "# Отток клиентов"
   ]
  },
  {
   "cell_type": "markdown",
   "metadata": {},
   "source": [
    "Из «Бета-Банка» стали уходить клиенты. Каждый месяц. Немного, но заметно. Банковские маркетологи посчитали: сохранять текущих клиентов дешевле, чем привлекать новых.\n",
    "\n",
    "Нужно спрогнозировать, уйдёт клиент из банка в ближайшее время или нет. Вам предоставлены исторические данные о поведении клиентов и расторжении договоров с банком. \n",
    "\n",
    "Постройте модель с предельно большим значением *F1*-меры. Чтобы сдать проект успешно, нужно довести метрику до 0.59. Проверьте *F1*-меру на тестовой выборке самостоятельно.\n",
    "\n",
    "Дополнительно измеряйте *AUC-ROC*, сравнивайте её значение с *F1*-мерой.\n",
    "\n",
    "Источник данных: [https://www.kaggle.com/barelydedicated/bank-customer-churn-modeling](https://www.kaggle.com/barelydedicated/bank-customer-churn-modeling)"
   ]
  },
  {
   "cell_type": "markdown",
   "metadata": {},
   "source": [
    "# 1. Подготовка данных"
   ]
  },
  {
   "cell_type": "code",
   "execution_count": 1,
   "metadata": {},
   "outputs": [],
   "source": [
    "import pandas as pd\n",
    "import numpy as np\n",
    "import warnings\n",
    "\n",
    "from sklearn.model_selection import train_test_split\n",
    "from sklearn.metrics import r2_score\n",
    "from sklearn.metrics import mean_squared_error\n",
    "from sklearn.preprocessing import OrdinalEncoder\n",
    "from sklearn.preprocessing import StandardScaler\n",
    "from sklearn.metrics import accuracy_score\n",
    "from sklearn.metrics import confusion_matrix\n",
    "from sklearn.metrics import recall_score\n",
    "from sklearn.metrics import precision_score\n",
    "from sklearn.metrics import f1_score\n",
    "from sklearn.utils import shuffle\n",
    "from sklearn.metrics import roc_auc_score\n",
    "from sklearn.metrics import precision_recall_curve\n",
    "from sklearn.metrics import mean_absolute_error\n",
    "\n",
    "from sklearn.linear_model import LogisticRegression\n",
    "from sklearn.linear_model import LinearRegression\n",
    "from sklearn.tree import DecisionTreeClassifier\n",
    "from sklearn.ensemble import RandomForestClassifier\n",
    "\n",
    "from sklearn.metrics import roc_curve\n",
    "import matplotlib as mpl\n",
    "import matplotlib.pyplot as plt\n",
    "import seaborn as sns\n",
    "from pandas.plotting import scatter_matrix"
   ]
  },
  {
   "cell_type": "code",
   "execution_count": 2,
   "metadata": {},
   "outputs": [],
   "source": [
    "#Загружаем данные.\n",
    "data = pd.read_csv('/datasets/Churn.csv')"
   ]
  },
  {
   "cell_type": "code",
   "execution_count": 3,
   "metadata": {},
   "outputs": [
    {
     "data": {
      "text/html": [
       "<div>\n",
       "<style scoped>\n",
       "    .dataframe tbody tr th:only-of-type {\n",
       "        vertical-align: middle;\n",
       "    }\n",
       "\n",
       "    .dataframe tbody tr th {\n",
       "        vertical-align: top;\n",
       "    }\n",
       "\n",
       "    .dataframe thead th {\n",
       "        text-align: right;\n",
       "    }\n",
       "</style>\n",
       "<table border=\"1\" class=\"dataframe\">\n",
       "  <thead>\n",
       "    <tr style=\"text-align: right;\">\n",
       "      <th></th>\n",
       "      <th>RowNumber</th>\n",
       "      <th>CustomerId</th>\n",
       "      <th>Surname</th>\n",
       "      <th>CreditScore</th>\n",
       "      <th>Geography</th>\n",
       "      <th>Gender</th>\n",
       "      <th>Age</th>\n",
       "      <th>Tenure</th>\n",
       "      <th>Balance</th>\n",
       "      <th>NumOfProducts</th>\n",
       "      <th>HasCrCard</th>\n",
       "      <th>IsActiveMember</th>\n",
       "      <th>EstimatedSalary</th>\n",
       "      <th>Exited</th>\n",
       "    </tr>\n",
       "  </thead>\n",
       "  <tbody>\n",
       "    <tr>\n",
       "      <td>0</td>\n",
       "      <td>1</td>\n",
       "      <td>15634602</td>\n",
       "      <td>Hargrave</td>\n",
       "      <td>619</td>\n",
       "      <td>France</td>\n",
       "      <td>Female</td>\n",
       "      <td>42</td>\n",
       "      <td>2.0</td>\n",
       "      <td>0.00</td>\n",
       "      <td>1</td>\n",
       "      <td>1</td>\n",
       "      <td>1</td>\n",
       "      <td>101348.88</td>\n",
       "      <td>1</td>\n",
       "    </tr>\n",
       "    <tr>\n",
       "      <td>1</td>\n",
       "      <td>2</td>\n",
       "      <td>15647311</td>\n",
       "      <td>Hill</td>\n",
       "      <td>608</td>\n",
       "      <td>Spain</td>\n",
       "      <td>Female</td>\n",
       "      <td>41</td>\n",
       "      <td>1.0</td>\n",
       "      <td>83807.86</td>\n",
       "      <td>1</td>\n",
       "      <td>0</td>\n",
       "      <td>1</td>\n",
       "      <td>112542.58</td>\n",
       "      <td>0</td>\n",
       "    </tr>\n",
       "    <tr>\n",
       "      <td>2</td>\n",
       "      <td>3</td>\n",
       "      <td>15619304</td>\n",
       "      <td>Onio</td>\n",
       "      <td>502</td>\n",
       "      <td>France</td>\n",
       "      <td>Female</td>\n",
       "      <td>42</td>\n",
       "      <td>8.0</td>\n",
       "      <td>159660.80</td>\n",
       "      <td>3</td>\n",
       "      <td>1</td>\n",
       "      <td>0</td>\n",
       "      <td>113931.57</td>\n",
       "      <td>1</td>\n",
       "    </tr>\n",
       "    <tr>\n",
       "      <td>3</td>\n",
       "      <td>4</td>\n",
       "      <td>15701354</td>\n",
       "      <td>Boni</td>\n",
       "      <td>699</td>\n",
       "      <td>France</td>\n",
       "      <td>Female</td>\n",
       "      <td>39</td>\n",
       "      <td>1.0</td>\n",
       "      <td>0.00</td>\n",
       "      <td>2</td>\n",
       "      <td>0</td>\n",
       "      <td>0</td>\n",
       "      <td>93826.63</td>\n",
       "      <td>0</td>\n",
       "    </tr>\n",
       "    <tr>\n",
       "      <td>4</td>\n",
       "      <td>5</td>\n",
       "      <td>15737888</td>\n",
       "      <td>Mitchell</td>\n",
       "      <td>850</td>\n",
       "      <td>Spain</td>\n",
       "      <td>Female</td>\n",
       "      <td>43</td>\n",
       "      <td>2.0</td>\n",
       "      <td>125510.82</td>\n",
       "      <td>1</td>\n",
       "      <td>1</td>\n",
       "      <td>1</td>\n",
       "      <td>79084.10</td>\n",
       "      <td>0</td>\n",
       "    </tr>\n",
       "    <tr>\n",
       "      <td>...</td>\n",
       "      <td>...</td>\n",
       "      <td>...</td>\n",
       "      <td>...</td>\n",
       "      <td>...</td>\n",
       "      <td>...</td>\n",
       "      <td>...</td>\n",
       "      <td>...</td>\n",
       "      <td>...</td>\n",
       "      <td>...</td>\n",
       "      <td>...</td>\n",
       "      <td>...</td>\n",
       "      <td>...</td>\n",
       "      <td>...</td>\n",
       "      <td>...</td>\n",
       "    </tr>\n",
       "    <tr>\n",
       "      <td>9995</td>\n",
       "      <td>9996</td>\n",
       "      <td>15606229</td>\n",
       "      <td>Obijiaku</td>\n",
       "      <td>771</td>\n",
       "      <td>France</td>\n",
       "      <td>Male</td>\n",
       "      <td>39</td>\n",
       "      <td>5.0</td>\n",
       "      <td>0.00</td>\n",
       "      <td>2</td>\n",
       "      <td>1</td>\n",
       "      <td>0</td>\n",
       "      <td>96270.64</td>\n",
       "      <td>0</td>\n",
       "    </tr>\n",
       "    <tr>\n",
       "      <td>9996</td>\n",
       "      <td>9997</td>\n",
       "      <td>15569892</td>\n",
       "      <td>Johnstone</td>\n",
       "      <td>516</td>\n",
       "      <td>France</td>\n",
       "      <td>Male</td>\n",
       "      <td>35</td>\n",
       "      <td>10.0</td>\n",
       "      <td>57369.61</td>\n",
       "      <td>1</td>\n",
       "      <td>1</td>\n",
       "      <td>1</td>\n",
       "      <td>101699.77</td>\n",
       "      <td>0</td>\n",
       "    </tr>\n",
       "    <tr>\n",
       "      <td>9997</td>\n",
       "      <td>9998</td>\n",
       "      <td>15584532</td>\n",
       "      <td>Liu</td>\n",
       "      <td>709</td>\n",
       "      <td>France</td>\n",
       "      <td>Female</td>\n",
       "      <td>36</td>\n",
       "      <td>7.0</td>\n",
       "      <td>0.00</td>\n",
       "      <td>1</td>\n",
       "      <td>0</td>\n",
       "      <td>1</td>\n",
       "      <td>42085.58</td>\n",
       "      <td>1</td>\n",
       "    </tr>\n",
       "    <tr>\n",
       "      <td>9998</td>\n",
       "      <td>9999</td>\n",
       "      <td>15682355</td>\n",
       "      <td>Sabbatini</td>\n",
       "      <td>772</td>\n",
       "      <td>Germany</td>\n",
       "      <td>Male</td>\n",
       "      <td>42</td>\n",
       "      <td>3.0</td>\n",
       "      <td>75075.31</td>\n",
       "      <td>2</td>\n",
       "      <td>1</td>\n",
       "      <td>0</td>\n",
       "      <td>92888.52</td>\n",
       "      <td>1</td>\n",
       "    </tr>\n",
       "    <tr>\n",
       "      <td>9999</td>\n",
       "      <td>10000</td>\n",
       "      <td>15628319</td>\n",
       "      <td>Walker</td>\n",
       "      <td>792</td>\n",
       "      <td>France</td>\n",
       "      <td>Female</td>\n",
       "      <td>28</td>\n",
       "      <td>NaN</td>\n",
       "      <td>130142.79</td>\n",
       "      <td>1</td>\n",
       "      <td>1</td>\n",
       "      <td>0</td>\n",
       "      <td>38190.78</td>\n",
       "      <td>0</td>\n",
       "    </tr>\n",
       "  </tbody>\n",
       "</table>\n",
       "<p>10000 rows × 14 columns</p>\n",
       "</div>"
      ],
      "text/plain": [
       "      RowNumber  CustomerId    Surname  CreditScore Geography  Gender  Age  \\\n",
       "0             1    15634602   Hargrave          619    France  Female   42   \n",
       "1             2    15647311       Hill          608     Spain  Female   41   \n",
       "2             3    15619304       Onio          502    France  Female   42   \n",
       "3             4    15701354       Boni          699    France  Female   39   \n",
       "4             5    15737888   Mitchell          850     Spain  Female   43   \n",
       "...         ...         ...        ...          ...       ...     ...  ...   \n",
       "9995       9996    15606229   Obijiaku          771    France    Male   39   \n",
       "9996       9997    15569892  Johnstone          516    France    Male   35   \n",
       "9997       9998    15584532        Liu          709    France  Female   36   \n",
       "9998       9999    15682355  Sabbatini          772   Germany    Male   42   \n",
       "9999      10000    15628319     Walker          792    France  Female   28   \n",
       "\n",
       "      Tenure    Balance  NumOfProducts  HasCrCard  IsActiveMember  \\\n",
       "0        2.0       0.00              1          1               1   \n",
       "1        1.0   83807.86              1          0               1   \n",
       "2        8.0  159660.80              3          1               0   \n",
       "3        1.0       0.00              2          0               0   \n",
       "4        2.0  125510.82              1          1               1   \n",
       "...      ...        ...            ...        ...             ...   \n",
       "9995     5.0       0.00              2          1               0   \n",
       "9996    10.0   57369.61              1          1               1   \n",
       "9997     7.0       0.00              1          0               1   \n",
       "9998     3.0   75075.31              2          1               0   \n",
       "9999     NaN  130142.79              1          1               0   \n",
       "\n",
       "      EstimatedSalary  Exited  \n",
       "0           101348.88       1  \n",
       "1           112542.58       0  \n",
       "2           113931.57       1  \n",
       "3            93826.63       0  \n",
       "4            79084.10       0  \n",
       "...               ...     ...  \n",
       "9995         96270.64       0  \n",
       "9996        101699.77       0  \n",
       "9997         42085.58       1  \n",
       "9998         92888.52       1  \n",
       "9999         38190.78       0  \n",
       "\n",
       "[10000 rows x 14 columns]"
      ]
     },
     "execution_count": 3,
     "metadata": {},
     "output_type": "execute_result"
    }
   ],
   "source": [
    "#Смотрим на данные.\n",
    "data"
   ]
  },
  {
   "cell_type": "code",
   "execution_count": 4,
   "metadata": {},
   "outputs": [
    {
     "name": "stdout",
     "output_type": "stream",
     "text": [
      "<class 'pandas.core.frame.DataFrame'>\n",
      "RangeIndex: 10000 entries, 0 to 9999\n",
      "Data columns (total 14 columns):\n",
      "RowNumber          10000 non-null int64\n",
      "CustomerId         10000 non-null int64\n",
      "Surname            10000 non-null object\n",
      "CreditScore        10000 non-null int64\n",
      "Geography          10000 non-null object\n",
      "Gender             10000 non-null object\n",
      "Age                10000 non-null int64\n",
      "Tenure             9091 non-null float64\n",
      "Balance            10000 non-null float64\n",
      "NumOfProducts      10000 non-null int64\n",
      "HasCrCard          10000 non-null int64\n",
      "IsActiveMember     10000 non-null int64\n",
      "EstimatedSalary    10000 non-null float64\n",
      "Exited             10000 non-null int64\n",
      "dtypes: float64(3), int64(8), object(3)\n",
      "memory usage: 1.1+ MB\n",
      "None\n"
     ]
    }
   ],
   "source": [
    "#Смотрим общую информацию.\n",
    "print(data.info())"
   ]
  },
  {
   "cell_type": "code",
   "execution_count": 5,
   "metadata": {},
   "outputs": [
    {
     "name": "stdout",
     "output_type": "stream",
     "text": [
      "RowNumber            0\n",
      "CustomerId           0\n",
      "Surname              0\n",
      "CreditScore          0\n",
      "Geography            0\n",
      "Gender               0\n",
      "Age                  0\n",
      "Tenure             909\n",
      "Balance              0\n",
      "NumOfProducts        0\n",
      "HasCrCard            0\n",
      "IsActiveMember       0\n",
      "EstimatedSalary      0\n",
      "Exited               0\n",
      "dtype: int64\n"
     ]
    }
   ],
   "source": [
    "#Определяю количество пропущенных значений в столбцах таблицы.\n",
    "print(data.isnull().sum())"
   ]
  },
  {
   "cell_type": "code",
   "execution_count": 6,
   "metadata": {},
   "outputs": [
    {
     "name": "stdout",
     "output_type": "stream",
     "text": [
      "Столбец RowNumber : [    1     2     3 ...  9998  9999 10000]\n",
      "Столбец CustomerId : [15634602 15647311 15619304 ... 15584532 15682355 15628319]\n",
      "Столбец Surname : ['Hargrave' 'Hill' 'Onio' ... 'Kashiwagi' 'Aldridge' 'Burbidge']\n",
      "Столбец CreditScore : [619 608 502 699 850 645 822 376 501 684 528 497 476 549 635 616 653 587\n",
      " 726 732 636 510 669 846 577 756 571 574 411 591 533 553 520 722 475 490\n",
      " 804 582 472 465 556 834 660 776 829 637 550 698 585 788 655 601 656 725\n",
      " 511 614 742 687 555 603 751 581 735 661 675 738 813 657 604 519 664 678\n",
      " 757 416 665 777 543 506 493 652 750 729 646 647 808 524 769 730 515 773\n",
      " 814 710 413 623 670 622 785 605 479 685 538 562 721 628 668 828 674 625\n",
      " 432 770 758 795 686 789 589 461 584 579 663 682 793 691 485 650 754 535\n",
      " 716 539 706 586 631 717 800 683 704 615 667 484 480 578 512 606 597 778\n",
      " 514 525 715 580 807 521 759 516 711 618 643 671 689 620 676 572 695 592\n",
      " 567 694 547 594 673 610 767 763 712 703 662 659 523 772 545 634 739 771\n",
      " 681 544 696 766 727 693 557 531 498 651 791 733 811 707 714 782 775 799\n",
      " 602 744 588 747 583 627 731 629 438 642 806 474 559 429 680 749 734 644\n",
      " 626 649 805 718 840 630 654 762 568 613 522 737 648 443 640 540 460 593\n",
      " 801 611 802 745 483 690 492 709 705 560 752 701 537 487 596 702 486 724\n",
      " 548 464 790 534 748 494 590 468 509 818 816 536 753 774 621 569 658 798\n",
      " 641 542 692 639 765 570 638 599 632 779 527 564 833 504 842 508 417 598\n",
      " 741 607 761 848 546 439 755 760 526 713 700 666 566 495 688 612 477 427\n",
      " 839 819 720 459 503 624 529 563 482 796 445 746 786 554 672 787 499 844\n",
      " 450 815 838 803 736 633 600 679 517 792 743 488 421 841 708 507 505 456\n",
      " 435 561 518 565 728 784 552 609 764 697 723 551 444 719 496 541 830 812\n",
      " 677 420 595 617 809 500 826 434 513 478 797 363 399 463 780 452 575 837\n",
      " 794 824 428 823 781 849 489 431 457 768 831 359 820 573 576 558 817 449\n",
      " 440 415 821 530 350 446 425 740 481 783 358 845 451 458 469 423 404 836\n",
      " 473 835 466 491 351 827 843 365 532 414 453 471 401 810 832 470 447 422\n",
      " 825 430 436 426 408 847 418 437 410 454 407 455 462 386 405 383 395 467\n",
      " 433 442 424 448 441 367 412 382 373 419]\n",
      "Столбец Geography : ['France' 'Spain' 'Germany']\n",
      "Столбец Gender : ['Female' 'Male']\n",
      "Столбец Age : [42 41 39 43 44 50 29 27 31 24 34 25 35 45 58 32 38 46 36 33 40 51 61 49\n",
      " 37 19 66 56 26 21 55 75 22 30 28 65 48 52 57 73 47 54 72 20 67 79 62 53\n",
      " 80 59 68 23 60 70 63 64 18 82 69 74 71 76 77 88 85 84 78 81 92 83]\n",
      "Столбец Tenure : [ 2.  1.  8.  7.  4.  6.  3. 10.  5.  9.  0. nan]\n",
      "Столбец Balance : [     0.    83807.86 159660.8  ...  57369.61  75075.31 130142.79]\n",
      "Столбец NumOfProducts : [1 3 2 4]\n",
      "Столбец HasCrCard : [1 0]\n",
      "Столбец IsActiveMember : [1 0]\n",
      "Столбец EstimatedSalary : [101348.88 112542.58 113931.57 ...  42085.58  92888.52  38190.78]\n",
      "Столбец Exited : [1 0]\n"
     ]
    }
   ],
   "source": [
    "#Вывожу списки уникальных значений для каждого столбца, чтобы найти пропуски и аномальные значения.\n",
    "for column in list(data):\n",
    "    print('Столбец', column, ':', data[column].unique())"
   ]
  },
  {
   "cell_type": "markdown",
   "metadata": {},
   "source": [
    "### Необходимо предобработать данные:\n",
    "- заполнить пропуски в Tenure,\n",
    "- привести названия столбцов к нижнему регистру,\n",
    "- привести столбец Tenure к типу int, т.к. количество квартир не может быть дробным."
   ]
  },
  {
   "cell_type": "markdown",
   "metadata": {},
   "source": [
    "Пропуски в графе недвижимости у клиента. Считаю, что это может означать, что у него ее нет. Заполню 0-ми."
   ]
  },
  {
   "cell_type": "markdown",
   "metadata": {},
   "source": [
    "<font color='blue'><u><b>КОММЕНТАРИЙ РЕВЬЮЕРА</b></u></font><br />\n",
    "<font color='green'>\n",
    "решение понятно, но обоснования ему нет(((( Почему именно так решила заполнить? как это повлияет на результат моделирования? <br>\n",
    "<br> Возможно, что групповая по географии (как пример) медиана также не принесла бы большой ошибки. А может взять и удалить, чтобы не \"искушаться\"..Тут понятно, что однозначного решения нет, как и алгоритма. Правило только одно (как в медицине) - НЕ нарведи. Т.е. принимаемое решение должно соотноситься с возможным ущербом на конечный результат. В нашем случае ущерб от медианного заполнения ниже от ущерба удалить данные?. Причём выше/ниже - это только на чуйке/жизенном опыте смого аналитика.<br>\n",
    "Интересная это работа - быть DS-аналитиком)<br><br>\n",
    "    \n",
    "Возможно, что можно смотреть распределение этой переменной ДО и ПОСЛЕ заполнения. И следить, чтобы не было искажени в нём.<br>\n",
    "    \n",
    "Ещё вараинт:<br> удалить пропущенные строки. А по окнчании построения модели, вывести важность факторов самой модели. И если фактор tenure окажется не значим, то как в принципе удалить его из моделирования, а первоначально удалённые строки - вернуть."
   ]
  },
  {
   "cell_type": "markdown",
   "metadata": {},
   "source": [
    "<font color=purple>**Ответ: мне кажется, что пропуски в графе недвижимость могут говорить о том, что у клиента ее нет, поэтому он при заполнении анкеты, например, не указал ничего. Поэтому заполняю их 0-ми.** </font>"
   ]
  },
  {
   "cell_type": "code",
   "execution_count": 7,
   "metadata": {},
   "outputs": [],
   "source": [
    "data = data.fillna(0)"
   ]
  },
  {
   "cell_type": "markdown",
   "metadata": {},
   "source": [
    "Приводим названия столбцов к нижнему регистру."
   ]
  },
  {
   "cell_type": "code",
   "execution_count": 8,
   "metadata": {},
   "outputs": [],
   "source": [
    "data = data.rename(str.lower, axis='columns')"
   ]
  },
  {
   "cell_type": "markdown",
   "metadata": {},
   "source": [
    "Приведу столбец Tenure к типу int."
   ]
  },
  {
   "cell_type": "code",
   "execution_count": 9,
   "metadata": {},
   "outputs": [],
   "source": [
    "data['tenure'] = data['tenure'].astype(int)"
   ]
  },
  {
   "cell_type": "markdown",
   "metadata": {},
   "source": [
    "Смотрим результаты предобработки."
   ]
  },
  {
   "cell_type": "code",
   "execution_count": 10,
   "metadata": {},
   "outputs": [
    {
     "name": "stdout",
     "output_type": "stream",
     "text": [
      "rownumber          0\n",
      "customerid         0\n",
      "surname            0\n",
      "creditscore        0\n",
      "geography          0\n",
      "gender             0\n",
      "age                0\n",
      "tenure             0\n",
      "balance            0\n",
      "numofproducts      0\n",
      "hascrcard          0\n",
      "isactivemember     0\n",
      "estimatedsalary    0\n",
      "exited             0\n",
      "dtype: int64\n",
      "<class 'pandas.core.frame.DataFrame'>\n",
      "RangeIndex: 10000 entries, 0 to 9999\n",
      "Data columns (total 14 columns):\n",
      "rownumber          10000 non-null int64\n",
      "customerid         10000 non-null int64\n",
      "surname            10000 non-null object\n",
      "creditscore        10000 non-null int64\n",
      "geography          10000 non-null object\n",
      "gender             10000 non-null object\n",
      "age                10000 non-null int64\n",
      "tenure             10000 non-null int64\n",
      "balance            10000 non-null float64\n",
      "numofproducts      10000 non-null int64\n",
      "hascrcard          10000 non-null int64\n",
      "isactivemember     10000 non-null int64\n",
      "estimatedsalary    10000 non-null float64\n",
      "exited             10000 non-null int64\n",
      "dtypes: float64(2), int64(9), object(3)\n",
      "memory usage: 1.1+ MB\n",
      "None\n"
     ]
    }
   ],
   "source": [
    "#Определяю количество пропущенных значений в столбцах таблицы.\n",
    "print(data.isnull().sum())\n",
    "\n",
    "#Смотрим общую информацию.\n",
    "print(data.info())"
   ]
  },
  {
   "cell_type": "code",
   "execution_count": 11,
   "metadata": {},
   "outputs": [
    {
     "data": {
      "text/html": [
       "<div>\n",
       "<style scoped>\n",
       "    .dataframe tbody tr th:only-of-type {\n",
       "        vertical-align: middle;\n",
       "    }\n",
       "\n",
       "    .dataframe tbody tr th {\n",
       "        vertical-align: top;\n",
       "    }\n",
       "\n",
       "    .dataframe thead th {\n",
       "        text-align: right;\n",
       "    }\n",
       "</style>\n",
       "<table border=\"1\" class=\"dataframe\">\n",
       "  <thead>\n",
       "    <tr style=\"text-align: right;\">\n",
       "      <th></th>\n",
       "      <th>rownumber</th>\n",
       "      <th>customerid</th>\n",
       "      <th>surname</th>\n",
       "      <th>creditscore</th>\n",
       "      <th>geography</th>\n",
       "      <th>gender</th>\n",
       "      <th>age</th>\n",
       "      <th>tenure</th>\n",
       "      <th>balance</th>\n",
       "      <th>numofproducts</th>\n",
       "      <th>hascrcard</th>\n",
       "      <th>isactivemember</th>\n",
       "      <th>estimatedsalary</th>\n",
       "      <th>exited</th>\n",
       "    </tr>\n",
       "  </thead>\n",
       "  <tbody>\n",
       "    <tr>\n",
       "      <td>0</td>\n",
       "      <td>1</td>\n",
       "      <td>15634602</td>\n",
       "      <td>Hargrave</td>\n",
       "      <td>619</td>\n",
       "      <td>France</td>\n",
       "      <td>Female</td>\n",
       "      <td>42</td>\n",
       "      <td>2</td>\n",
       "      <td>0.00</td>\n",
       "      <td>1</td>\n",
       "      <td>1</td>\n",
       "      <td>1</td>\n",
       "      <td>101348.88</td>\n",
       "      <td>1</td>\n",
       "    </tr>\n",
       "    <tr>\n",
       "      <td>1</td>\n",
       "      <td>2</td>\n",
       "      <td>15647311</td>\n",
       "      <td>Hill</td>\n",
       "      <td>608</td>\n",
       "      <td>Spain</td>\n",
       "      <td>Female</td>\n",
       "      <td>41</td>\n",
       "      <td>1</td>\n",
       "      <td>83807.86</td>\n",
       "      <td>1</td>\n",
       "      <td>0</td>\n",
       "      <td>1</td>\n",
       "      <td>112542.58</td>\n",
       "      <td>0</td>\n",
       "    </tr>\n",
       "    <tr>\n",
       "      <td>2</td>\n",
       "      <td>3</td>\n",
       "      <td>15619304</td>\n",
       "      <td>Onio</td>\n",
       "      <td>502</td>\n",
       "      <td>France</td>\n",
       "      <td>Female</td>\n",
       "      <td>42</td>\n",
       "      <td>8</td>\n",
       "      <td>159660.80</td>\n",
       "      <td>3</td>\n",
       "      <td>1</td>\n",
       "      <td>0</td>\n",
       "      <td>113931.57</td>\n",
       "      <td>1</td>\n",
       "    </tr>\n",
       "    <tr>\n",
       "      <td>3</td>\n",
       "      <td>4</td>\n",
       "      <td>15701354</td>\n",
       "      <td>Boni</td>\n",
       "      <td>699</td>\n",
       "      <td>France</td>\n",
       "      <td>Female</td>\n",
       "      <td>39</td>\n",
       "      <td>1</td>\n",
       "      <td>0.00</td>\n",
       "      <td>2</td>\n",
       "      <td>0</td>\n",
       "      <td>0</td>\n",
       "      <td>93826.63</td>\n",
       "      <td>0</td>\n",
       "    </tr>\n",
       "    <tr>\n",
       "      <td>4</td>\n",
       "      <td>5</td>\n",
       "      <td>15737888</td>\n",
       "      <td>Mitchell</td>\n",
       "      <td>850</td>\n",
       "      <td>Spain</td>\n",
       "      <td>Female</td>\n",
       "      <td>43</td>\n",
       "      <td>2</td>\n",
       "      <td>125510.82</td>\n",
       "      <td>1</td>\n",
       "      <td>1</td>\n",
       "      <td>1</td>\n",
       "      <td>79084.10</td>\n",
       "      <td>0</td>\n",
       "    </tr>\n",
       "    <tr>\n",
       "      <td>...</td>\n",
       "      <td>...</td>\n",
       "      <td>...</td>\n",
       "      <td>...</td>\n",
       "      <td>...</td>\n",
       "      <td>...</td>\n",
       "      <td>...</td>\n",
       "      <td>...</td>\n",
       "      <td>...</td>\n",
       "      <td>...</td>\n",
       "      <td>...</td>\n",
       "      <td>...</td>\n",
       "      <td>...</td>\n",
       "      <td>...</td>\n",
       "      <td>...</td>\n",
       "    </tr>\n",
       "    <tr>\n",
       "      <td>9995</td>\n",
       "      <td>9996</td>\n",
       "      <td>15606229</td>\n",
       "      <td>Obijiaku</td>\n",
       "      <td>771</td>\n",
       "      <td>France</td>\n",
       "      <td>Male</td>\n",
       "      <td>39</td>\n",
       "      <td>5</td>\n",
       "      <td>0.00</td>\n",
       "      <td>2</td>\n",
       "      <td>1</td>\n",
       "      <td>0</td>\n",
       "      <td>96270.64</td>\n",
       "      <td>0</td>\n",
       "    </tr>\n",
       "    <tr>\n",
       "      <td>9996</td>\n",
       "      <td>9997</td>\n",
       "      <td>15569892</td>\n",
       "      <td>Johnstone</td>\n",
       "      <td>516</td>\n",
       "      <td>France</td>\n",
       "      <td>Male</td>\n",
       "      <td>35</td>\n",
       "      <td>10</td>\n",
       "      <td>57369.61</td>\n",
       "      <td>1</td>\n",
       "      <td>1</td>\n",
       "      <td>1</td>\n",
       "      <td>101699.77</td>\n",
       "      <td>0</td>\n",
       "    </tr>\n",
       "    <tr>\n",
       "      <td>9997</td>\n",
       "      <td>9998</td>\n",
       "      <td>15584532</td>\n",
       "      <td>Liu</td>\n",
       "      <td>709</td>\n",
       "      <td>France</td>\n",
       "      <td>Female</td>\n",
       "      <td>36</td>\n",
       "      <td>7</td>\n",
       "      <td>0.00</td>\n",
       "      <td>1</td>\n",
       "      <td>0</td>\n",
       "      <td>1</td>\n",
       "      <td>42085.58</td>\n",
       "      <td>1</td>\n",
       "    </tr>\n",
       "    <tr>\n",
       "      <td>9998</td>\n",
       "      <td>9999</td>\n",
       "      <td>15682355</td>\n",
       "      <td>Sabbatini</td>\n",
       "      <td>772</td>\n",
       "      <td>Germany</td>\n",
       "      <td>Male</td>\n",
       "      <td>42</td>\n",
       "      <td>3</td>\n",
       "      <td>75075.31</td>\n",
       "      <td>2</td>\n",
       "      <td>1</td>\n",
       "      <td>0</td>\n",
       "      <td>92888.52</td>\n",
       "      <td>1</td>\n",
       "    </tr>\n",
       "    <tr>\n",
       "      <td>9999</td>\n",
       "      <td>10000</td>\n",
       "      <td>15628319</td>\n",
       "      <td>Walker</td>\n",
       "      <td>792</td>\n",
       "      <td>France</td>\n",
       "      <td>Female</td>\n",
       "      <td>28</td>\n",
       "      <td>0</td>\n",
       "      <td>130142.79</td>\n",
       "      <td>1</td>\n",
       "      <td>1</td>\n",
       "      <td>0</td>\n",
       "      <td>38190.78</td>\n",
       "      <td>0</td>\n",
       "    </tr>\n",
       "  </tbody>\n",
       "</table>\n",
       "<p>10000 rows × 14 columns</p>\n",
       "</div>"
      ],
      "text/plain": [
       "      rownumber  customerid    surname  creditscore geography  gender  age  \\\n",
       "0             1    15634602   Hargrave          619    France  Female   42   \n",
       "1             2    15647311       Hill          608     Spain  Female   41   \n",
       "2             3    15619304       Onio          502    France  Female   42   \n",
       "3             4    15701354       Boni          699    France  Female   39   \n",
       "4             5    15737888   Mitchell          850     Spain  Female   43   \n",
       "...         ...         ...        ...          ...       ...     ...  ...   \n",
       "9995       9996    15606229   Obijiaku          771    France    Male   39   \n",
       "9996       9997    15569892  Johnstone          516    France    Male   35   \n",
       "9997       9998    15584532        Liu          709    France  Female   36   \n",
       "9998       9999    15682355  Sabbatini          772   Germany    Male   42   \n",
       "9999      10000    15628319     Walker          792    France  Female   28   \n",
       "\n",
       "      tenure    balance  numofproducts  hascrcard  isactivemember  \\\n",
       "0          2       0.00              1          1               1   \n",
       "1          1   83807.86              1          0               1   \n",
       "2          8  159660.80              3          1               0   \n",
       "3          1       0.00              2          0               0   \n",
       "4          2  125510.82              1          1               1   \n",
       "...      ...        ...            ...        ...             ...   \n",
       "9995       5       0.00              2          1               0   \n",
       "9996      10   57369.61              1          1               1   \n",
       "9997       7       0.00              1          0               1   \n",
       "9998       3   75075.31              2          1               0   \n",
       "9999       0  130142.79              1          1               0   \n",
       "\n",
       "      estimatedsalary  exited  \n",
       "0           101348.88       1  \n",
       "1           112542.58       0  \n",
       "2           113931.57       1  \n",
       "3            93826.63       0  \n",
       "4            79084.10       0  \n",
       "...               ...     ...  \n",
       "9995         96270.64       0  \n",
       "9996        101699.77       0  \n",
       "9997         42085.58       1  \n",
       "9998         92888.52       1  \n",
       "9999         38190.78       0  \n",
       "\n",
       "[10000 rows x 14 columns]"
      ]
     },
     "execution_count": 11,
     "metadata": {},
     "output_type": "execute_result"
    }
   ],
   "source": [
    "#Смотрим на данные.\n",
    "data"
   ]
  },
  {
   "cell_type": "markdown",
   "metadata": {},
   "source": [
    "### Исследуем данные на возможную мультиколлинеарность признаков. \n",
    "Если она присутствует, то затрудняется оценка и анализ общего результата. Для этого построим диаграмму корреляции."
   ]
  },
  {
   "cell_type": "code",
   "execution_count": 12,
   "metadata": {},
   "outputs": [
    {
     "data": {
      "image/png": "[encoded data removed]",
      "text/plain": [
       "<Figure size 960x960 with 2 Axes>"
      ]
     },
     "metadata": {
      "needs_background": "light"
     },
     "output_type": "display_data"
    }
   ],
   "source": [
    "#Построим диаграмму корреляции.\n",
    "plt.figure(figsize=(12,12), dpi= 80)\n",
    "sns.heatmap(data.corr(), xticklabels=data.corr()\n",
    "            .columns, yticklabels=data.corr().columns, cmap='RdYlGn', center=0, annot=True)\n",
    "\n",
    "plt.title('Диаграмма корреляции', fontsize=16)\n",
    "plt.xticks(fontsize=12)\n",
    "plt.yticks(fontsize=12)\n",
    "plt.show()"
   ]
  },
  {
   "cell_type": "markdown",
   "metadata": {},
   "source": [
    "Нет признаков, которые коррелируют между собой."
   ]
  },
  {
   "cell_type": "markdown",
   "metadata": {},
   "source": [
    "<font color='blue'><u><b>КОММЕНТАРИЙ РЕВЬЮЕРА</b></u></font><br />\n",
    "<font color='green'>\n",
    "здорово, что этот момент изучила.<br>\n",
    "Напомню только, что техника корреляций:<br>\n",
    "0) Этот инструмент - исключительно для данных в количественной шкале!!!!<br>\n",
    "Т.е. Exited и Вораст - корреляцию не посмотреть. Т.к. Одна величина - номинальная (в виде 0 и 1, т.е. да/нет можно сказать), другая количественная. Поэтому для таких ситуаций подойдёт другая техника - сравнение групп (из темы \"проверка гипотез\" спринт 3 и 4).<br><br>\n",
    "1) Наряду с силой связи, есть ещё характертеристика уровня значимости. Т.е. на сколько выявленной связи можно доверять (это теория р-уровня значений. Ещё будете изучать. Советую (если не очень пока знаете что это) попытать наставника по этому вопросу) <br>\n",
    "\n",
    "2) Вы уже чётко видите разницу между средним и медианой (опираюсь на Ваш проект)<br>\n",
    "Потому знаете, что данные имеют склонность быть нормальными и ненормальными (вот ёлки, всё как у людей:)))<br>\n",
    "Этот факт важен при использовании расчётов коэффициента корреляции:<br>\n",
    "Если данные нормальные - используют критерий Пирсона. если ненормальный - критерий Спирмена)<br>  \n",
    "Есть ли последствия от \"ложного\" использования методов? Да - ложные управленческие выводы!!!!   <br><br>\n",
    "3) И ещё: корреляция - очень подвержена выбросам!!! Если в данных они есть - вывод буде ложны <br>\n",
    "4) Так же, очень важно соблюдать однородность выборки.  Если прорустить этот момент, то вывод может быть ложным<br>\n",
    "5) Возможно, что на разных участках - разная зависимоость. Тут важно, вместе с расчётами выводить график. И вместе всё глядеть.\n",
    "<br>\n",
    "    \n",
    "<font color='green'>\n",
    "Поэтому к данной матрице я бы пока сдержанно отнёсся)<br>\n",
    "Вот, например, сслучаи ложной корреляции (вторые три картинки):. \"ВЫБРОСЫ\": линия (по ней считается корреляция) смещена к отдельной точке, а должна проходить по скоплению точек. Отсюда имеем заниженный к-т корреляции."
   ]
  },
  {
   "attachments": {
    "image.png": {
     "image/png": "[encoded data removed]"
    }
   },
   "cell_type": "markdown",
   "metadata": {},
   "source": [
    "![image.png](attachment:image.png)"
   ]
  },
  {
   "cell_type": "markdown",
   "metadata": {},
   "source": [
    "<font color=purple>**Ответ: спасибо за такой подробный комментарий!** </font>"
   ]
  },
  {
   "cell_type": "markdown",
   "metadata": {},
   "source": [
    "### Проверим данные на выбросы."
   ]
  },
  {
   "cell_type": "markdown",
   "metadata": {},
   "source": [
    "**Изучим столбец 'age'.**\n",
    "\n",
    "Для этого построим гистограмму. После сделаем вывод по графику."
   ]
  },
  {
   "cell_type": "code",
   "execution_count": 13,
   "metadata": {},
   "outputs": [
    {
     "data": {
      "image/png": "[encoded data removed]",
      "text/plain": [
       "<Figure size 864x360 with 1 Axes>"
      ]
     },
     "metadata": {
      "needs_background": "light"
     },
     "output_type": "display_data"
    }
   ],
   "source": [
    "#Строим гистограмму.\n",
    "data['age'].hist(bins=50, range = (15, 90), figsize = [12,5]) \n",
    "\n",
    "plt.title('Возраст клиентов', fontsize=12)\n",
    "plt.xlabel('Количество лет')\n",
    "plt.show()"
   ]
  },
  {
   "cell_type": "markdown",
   "metadata": {},
   "source": [
    "**Вывод:** по графику видим, что значения не превышают 85 лет, не меньше 18 лет. Выбросы удалять не нужно."
   ]
  },
  {
   "cell_type": "markdown",
   "metadata": {},
   "source": [
    "**Изучим столбец 'balance'.**\n",
    "\n",
    "Для этого построим гистограмму. После сделаем вывод по графику."
   ]
  },
  {
   "cell_type": "code",
   "execution_count": 14,
   "metadata": {},
   "outputs": [
    {
     "data": {
      "image/png": "[encoded data removed]",
      "text/plain": [
       "<Figure size 864x360 with 1 Axes>"
      ]
     },
     "metadata": {
      "needs_background": "light"
     },
     "output_type": "display_data"
    }
   ],
   "source": [
    "#Строим гистограмму.\n",
    "data['balance'].hist(bins=20, range = (0, 230000), figsize = [12,5]) \n",
    "\n",
    "plt.title('Баланс на счете', fontsize=12)\n",
    "plt.xlabel('Количество денег на счете')\n",
    "plt.show()"
   ]
  },
  {
   "cell_type": "markdown",
   "metadata": {},
   "source": [
    "**Вывод:** по графику видим, что баланс на счету лежит в промежжутке от 0 до 200000. Мне кажется, что нельзя какие-то данные назвать выбросами. У пользователя может быть 0, а может быть и больше. Удалять ничего не будем."
   ]
  },
  {
   "cell_type": "markdown",
   "metadata": {},
   "source": [
    "**Изучим столбец 'estimatedsalary'.**\n",
    "\n",
    "Для этого построим гистограмму. После сделаем вывод по графику."
   ]
  },
  {
   "cell_type": "code",
   "execution_count": 15,
   "metadata": {},
   "outputs": [
    {
     "data": {
      "image/png": "[encoded data removed]",
      "text/plain": [
       "<Figure size 864x360 with 1 Axes>"
      ]
     },
     "metadata": {
      "needs_background": "light"
     },
     "output_type": "display_data"
    }
   ],
   "source": [
    "#Строим гистограмму.\n",
    "data['estimatedsalary'].hist(bins=20, range = (0, 210000), figsize = [12,5]) \n",
    "\n",
    "plt.title('Предполагаемая зарплата', fontsize=12)\n",
    "plt.xlabel('Зарплата')\n",
    "plt.show()"
   ]
  },
  {
   "cell_type": "markdown",
   "metadata": {},
   "source": [
    "**Вывод:** по графику видим, что зарплата лежит в промежжутке от 0 до 205000. Мне кажется, что нельзя какие-то данные назвать выбросами. У пользователя может быть зарплата 0 (безработный, пенсионер), а может быть и больше. Удалять ничего не будем."
   ]
  },
  {
   "cell_type": "markdown",
   "metadata": {},
   "source": [
    "### Вывод\n",
    "\n",
    "Данные в итоге:\n",
    "- изучены,\n",
    "- предобработаны,\n",
    "- проверены на выбросы,\n",
    "- проверены на мультиколлинеарность.\n",
    "\n",
    "Можно приступать к анализу."
   ]
  },
  {
   "cell_type": "markdown",
   "metadata": {},
   "source": [
    "<font color='blue'><u><b>КОММЕНТАРИЙ РЕВЬЮЕРА</b></u></font><br />\n",
    "<font color='green'>\n",
    "Хороший раздел)"
   ]
  },
  {
   "cell_type": "markdown",
   "metadata": {},
   "source": [
    "<font color=purple>**Ответ: удалю дополнительные лишние столбцы.** </font>"
   ]
  },
  {
   "cell_type": "code",
   "execution_count": 16,
   "metadata": {},
   "outputs": [],
   "source": [
    "data = data.drop(['rownumber', 'customerid'],axis=1)"
   ]
  },
  {
   "cell_type": "markdown",
   "metadata": {},
   "source": [
    "# 2. Исследование задачи"
   ]
  },
  {
   "cell_type": "markdown",
   "metadata": {},
   "source": [
    "**Преобразуем категориальные признаки в численные.**\n",
    "\n",
    "Воспользуемся техникой прямого кодирования в столбцах 'geography' и 'gender', применив аргумент drop_first. К столбцу 'surname' применять не будем, так как фамилия не влияет на искомый вопрос.\n",
    "\n",
    "Выбрана техника OHE, т.к. работает со всеми моделями."
   ]
  },
  {
   "cell_type": "code",
   "execution_count": 17,
   "metadata": {},
   "outputs": [],
   "source": [
    "data_ohe = data.copy(deep=True)"
   ]
  },
  {
   "cell_type": "code",
   "execution_count": 18,
   "metadata": {},
   "outputs": [],
   "source": [
    "data_ohe = pd.concat([data_ohe, pd.get_dummies(data['geography'],drop_first=True, dtype=int),pd.get_dummies(data['gender'],drop_first=True, dtype=int)], axis=1)\n",
    "\n",
    "#Теперь удалим столбцы 'geography','gender','surname'.\n",
    "data_ohe = data_ohe.drop(['geography','gender','surname'],axis=1)"
   ]
  },
  {
   "cell_type": "markdown",
   "metadata": {},
   "source": [
    "<font color='blue'><u><b>КОММЕНТАРИЙ РЕВЬЮЕРА</b></u></font><br />\n",
    "<font color='orange'>\n",
    "Хорошо) такой момент: если есть drop_first=True, то столбцы-родители удаляются. Поэтому дропать их потом уже и нет смысла (их там и нет), по идее. А вот surname - точно надо удалять. И ещё есть пару столбцов в исходных данных, которые надо удалять: 'rownumber', 'customerid' - в них нет особого именно бизнес-смысла."
   ]
  },
  {
   "cell_type": "markdown",
   "metadata": {},
   "source": [
    "**Разобьем данные на выборки**\n",
    "\n",
    "Разобъем данные на 3 выборки: обучающую, валидационную и тестовую в соотношении: 60/20/20."
   ]
  },
  {
   "cell_type": "code",
   "execution_count": 19,
   "metadata": {},
   "outputs": [],
   "source": [
    "data_train_1, data_test = train_test_split(data_ohe, test_size=0.2, random_state=12345)\n",
    "data_train, data_valid = train_test_split(data_train_1, test_size=0.25, random_state=12345)"
   ]
  },
  {
   "cell_type": "markdown",
   "metadata": {},
   "source": [
    "Для анализа зафиксируем признаки в переменных features_, а целевой признак в target_ для каждой из 3-ех выборок."
   ]
  },
  {
   "cell_type": "code",
   "execution_count": 20,
   "metadata": {},
   "outputs": [],
   "source": [
    "#Обучающая выборка.\n",
    "features_train = data_train.drop(['exited'], axis=1)\n",
    "target_train = data_train['exited']\n",
    "\n",
    "#Валидационная выборка.\n",
    "features_valid = data_valid.drop(['exited'], axis=1)\n",
    "target_valid = data_valid['exited']\n",
    "\n",
    "#Тестовая выборка.\n",
    "features_test = data_test.drop(['exited'], axis=1)\n",
    "target_test = data_test['exited']"
   ]
  },
  {
   "cell_type": "code",
   "execution_count": 21,
   "metadata": {},
   "outputs": [
    {
     "data": {
      "text/plain": [
       "Index(['creditscore', 'age', 'tenure', 'balance', 'numofproducts', 'hascrcard',\n",
       "       'isactivemember', 'estimatedsalary', 'Germany', 'Spain', 'Male'],\n",
       "      dtype='object')"
      ]
     },
     "execution_count": 21,
     "metadata": {},
     "output_type": "execute_result"
    }
   ],
   "source": [
    "features_train.columns"
   ]
  },
  {
   "cell_type": "markdown",
   "metadata": {},
   "source": [
    "<font color='blue'> \n",
    "### <u>КОММЕНТАРИЙ РЕВЬЮЕРА</u>\n",
    "</font>\n",
    "<font color='green'>\n",
    "ОК, хорошо, здесь можно ещё проконтролировать размер выборок. Например командой shape"
   ]
  },
  {
   "cell_type": "markdown",
   "metadata": {},
   "source": [
    "**Стандартизируем численные признаки и настроим на обучающих данных.**"
   ]
  },
  {
   "cell_type": "code",
   "execution_count": 22,
   "metadata": {},
   "outputs": [],
   "source": [
    "pd.options.mode.chained_assignment = None  \n",
    "numeric = ['creditscore', 'age', 'tenure', 'balance', 'estimatedsalary']\n",
    "\n",
    "scaler = StandardScaler()\n",
    "scaler.fit(features_train[numeric])\n",
    "\n",
    "#Сохраним преобразованные обучающую, валидационную и тестовую выборки.\n",
    "features_train[numeric] = scaler.transform(features_train[numeric])\n",
    "features_valid[numeric] = scaler.transform(features_valid[numeric])\n",
    "features_test[numeric] = scaler.transform(features_test[numeric])"
   ]
  },
  {
   "cell_type": "markdown",
   "metadata": {},
   "source": [
    "**Изучим дисбаланс классов.**"
   ]
  },
  {
   "cell_type": "code",
   "execution_count": 23,
   "metadata": {},
   "outputs": [
    {
     "data": {
      "text/plain": [
       "0    0.7963\n",
       "1    0.2037\n",
       "Name: exited, dtype: float64"
      ]
     },
     "execution_count": 23,
     "metadata": {},
     "output_type": "execute_result"
    }
   ],
   "source": [
    "#Посмотрим на доли классов.\n",
    "data_ohe['exited'].value_counts(normalize = True)"
   ]
  },
  {
   "cell_type": "code",
   "execution_count": 24,
   "metadata": {},
   "outputs": [
    {
     "data": {
      "image/png": "[encoded data removed]",
      "text/plain": [
       "<Figure size 576x576 with 1 Axes>"
      ]
     },
     "metadata": {},
     "output_type": "display_data"
    }
   ],
   "source": [
    "#Визаулизируем доли.\n",
    "data_pie = data_ohe.groupby('exited').size()\n",
    "\n",
    "data_pie.plot(kind='pie', subplots=True, figsize=(8, 8))\n",
    "plt.title(\"Круговая диаграмма классов\")\n",
    "plt.ylabel(\"\")\n",
    "plt.show()"
   ]
  },
  {
   "cell_type": "markdown",
   "metadata": {},
   "source": [
    "**Обучим модели.**\n",
    "\n",
    "Рассчитаем параметры для них:\n",
    "- полноту,\n",
    "- точность,\n",
    "- F1-меру."
   ]
  },
  {
   "cell_type": "code",
   "execution_count": 25,
   "metadata": {},
   "outputs": [
    {
     "name": "stdout",
     "output_type": "stream",
     "text": [
      "[[1386  223]\n",
      " [ 195  196]]\n"
     ]
    }
   ],
   "source": [
    "#Рассчитаем параметры, обучив решающее дерево.\n",
    "model_dtc = DecisionTreeClassifier(random_state=12345)\n",
    "model_dtc.fit(features_train, target_train)\n",
    "predicted_valid_dtc = model_dtc.predict(features_valid)\n",
    "\n",
    "probabilities_valid_dtc = model_dtc.predict_proba(features_valid)\n",
    "probabilities_one_valid_dtc = probabilities_valid_dtc[:, 1]\n",
    "\n",
    "#Рассчитаем матрицу ошибок.\n",
    "print(confusion_matrix(target_valid, predicted_valid_dtc))"
   ]
  },
  {
   "cell_type": "code",
   "execution_count": 26,
   "metadata": {},
   "outputs": [
    {
     "data": {
      "text/plain": [
       "Index(['creditscore', 'age', 'tenure', 'balance', 'numofproducts', 'hascrcard',\n",
       "       'isactivemember', 'estimatedsalary', 'Germany', 'Spain', 'Male'],\n",
       "      dtype='object')"
      ]
     },
     "execution_count": 26,
     "metadata": {},
     "output_type": "execute_result"
    }
   ],
   "source": [
    "features_train.columns"
   ]
  },
  {
   "cell_type": "code",
   "execution_count": 27,
   "metadata": {},
   "outputs": [
    {
     "name": "stdout",
     "output_type": "stream",
     "text": [
      "Полнота: 0.5012787723785166\n",
      "Точность: 0.4677804295942721\n",
      "F1-мера: 0.4839506172839506\n",
      "AUC-ROC: 0.6813416857542054\n"
     ]
    }
   ],
   "source": [
    "#Найдем полноту.\n",
    "print('Полнота:', recall_score(target_valid, predicted_valid_dtc))\n",
    "\n",
    "#Найдем точность.\n",
    "print('Точность:', precision_score(target_valid, predicted_valid_dtc))\n",
    "\n",
    "#Посчитаем F1-меру.\n",
    "print('F1-мера:', f1_score(target_valid, predicted_valid_dtc))\n",
    "\n",
    "#Посчитаем AUC-ROC.\n",
    "auc_roc = roc_auc_score(target_valid, probabilities_one_valid_dtc)\n",
    "print('AUC-ROC:', auc_roc)"
   ]
  },
  {
   "cell_type": "code",
   "execution_count": 28,
   "metadata": {},
   "outputs": [
    {
     "name": "stdout",
     "output_type": "stream",
     "text": [
      "[[1551   58]\n",
      " [ 310   81]]\n"
     ]
    }
   ],
   "source": [
    "#Рассчитаем параметры, обучив логистическую регрессию.\n",
    "model_lr = LogisticRegression(solver='liblinear')\n",
    "model_lr.fit(features_train, target_train)\n",
    "predicted_valid_lr = model_lr.predict(features_valid)\n",
    "\n",
    "probabilities_valid_lr = model_lr.predict_proba(features_valid)\n",
    "probabilities_one_valid_lr = probabilities_valid_lr[:, 1]\n",
    "\n",
    "#Рассчитаем матрицу ошибок.\n",
    "print(confusion_matrix(target_valid, predicted_valid_lr))"
   ]
  },
  {
   "cell_type": "code",
   "execution_count": 29,
   "metadata": {},
   "outputs": [
    {
     "name": "stdout",
     "output_type": "stream",
     "text": [
      "Полнота: 0.2071611253196931\n",
      "Точность: 0.5827338129496403\n",
      "F1-мера: 0.3056603773584906\n",
      "AUC-ROC: 0.7707985293720265\n"
     ]
    }
   ],
   "source": [
    "#Найдем полноту.\n",
    "print('Полнота:', recall_score(target_valid, predicted_valid_lr))\n",
    "\n",
    "#Найдем точность.\n",
    "print('Точность:', precision_score(target_valid, predicted_valid_lr))\n",
    "\n",
    "#Посчитаем F1-меру.\n",
    "print('F1-мера:', f1_score(target_valid, predicted_valid_lr))\n",
    "\n",
    "#Посчитаем AUC-ROC.\n",
    "auc_roc = roc_auc_score(target_valid, probabilities_one_valid_lr )\n",
    "print('AUC-ROC:', auc_roc)"
   ]
  },
  {
   "cell_type": "code",
   "execution_count": 30,
   "metadata": {},
   "outputs": [
    {
     "name": "stdout",
     "output_type": "stream",
     "text": [
      "[[1553   56]\n",
      " [ 220  171]]\n"
     ]
    }
   ],
   "source": [
    "model_rfr = RandomForestClassifier(n_estimators=100, max_depth=12, random_state=12345)\n",
    "model_rfr.fit(features_train, target_train)\n",
    "predicted_valid_rfr = model_rfr.predict(features_valid)\n",
    "\n",
    "probabilities_valid_rfr = model_rfr.predict_proba(features_valid)\n",
    "probabilities_one_valid_rfr = probabilities_valid_rfr[:, 1]\n",
    "\n",
    "#Рассчитаем матрицу ошибок.\n",
    "print(confusion_matrix(target_valid, predicted_valid_rfr))"
   ]
  },
  {
   "cell_type": "code",
   "execution_count": 31,
   "metadata": {},
   "outputs": [
    {
     "name": "stdout",
     "output_type": "stream",
     "text": [
      "Полнота: 0.4373401534526854\n",
      "Точность: 0.7533039647577092\n",
      "F1-мера: 0.5533980582524272\n",
      "AUC-ROC: 0.8491589031645841\n"
     ]
    }
   ],
   "source": [
    "#Найдем полноту.\n",
    "print('Полнота:', recall_score(target_valid, predicted_valid_rfr))\n",
    "\n",
    "#Найдем точность.\n",
    "print('Точность:', precision_score(target_valid, predicted_valid_rfr))\n",
    "\n",
    "#Посчитаем F1-меру.\n",
    "print('F1-мера:', f1_score(target_valid, predicted_valid_rfr))\n",
    "\n",
    "#Посчитаем AUC-ROC.\n",
    "auc_roc = roc_auc_score(target_valid, probabilities_one_valid_rfr)\n",
    "print('AUC-ROC:', auc_roc)"
   ]
  },
  {
   "cell_type": "markdown",
   "metadata": {},
   "source": [
    "### Вывод\n",
    "\n",
    "По проведенному исследованию видно, что в данных есть дисбаланс классов:\n",
    "- 0: 0.7963\n",
    "- 1: 0.2037\n",
    "\n",
    "По обученнным моделям видим, что значения полноты, точности и F1-меры близки к 0 на всех моделях. Значения AUC-ROC не достигают 1, но больше 0.65 - модели адекватные.\n",
    "\n",
    "**Для модели DecisionTreeClassifier:**\n",
    "- Полнота: 0.5012787723785166\n",
    "- Точность: 0.4677804295942721\n",
    "- F1-мера: 0.4839506172839506\n",
    "- AUC-ROC: 0.6813416857542054\n",
    "\n",
    "**Для модели LogisticRegression:**\n",
    "- Полнота: 0.2071611253196931\n",
    "- Точность: 0.5827338129496403\n",
    "- F1-мера: 0.3056603773584906\n",
    "- AUC-ROC: 0.7707985293720265\n",
    "\n",
    "**Для модели RandomForestClassifier:**\n",
    "- Полнота: 0.4373401534526854\n",
    "- Точность: 0.7533039647577092\n",
    "- F1-мера: 0.5533980582524272\n",
    "- AUC-ROC: 0.8491589031645841\n",
    "\n",
    "Необходимо бороться с дисбалансом классов для улучшения показателей."
   ]
  },
  {
   "cell_type": "markdown",
   "metadata": {},
   "source": [
    "<font color='blue'> \n",
    "### <u>КОММЕНТАРИЙ РЕВЬЮЕРА</u>\n",
    "</font>\n",
    "<font color='green'>\n",
    "Отличное модельное начало) про полноту и точность  - в точку:)"
   ]
  },
  {
   "cell_type": "markdown",
   "metadata": {},
   "source": [
    "# 3. Борьба с дисбалансом"
   ]
  },
  {
   "cell_type": "markdown",
   "metadata": {},
   "source": [
    "### Рассмотрим логистическую регрессию."
   ]
  },
  {
   "cell_type": "markdown",
   "metadata": {},
   "source": [
    "Обучим логистическую регрессию, сделав веса классов сбалансированными.\n",
    "Придадим объектам редкого класса больший вес."
   ]
  },
  {
   "cell_type": "code",
   "execution_count": 32,
   "metadata": {},
   "outputs": [
    {
     "name": "stdout",
     "output_type": "stream",
     "text": [
      "F1-мера: 0.47763864042933807\n",
      "AUC-ROC: 0.7729586930294586\n"
     ]
    }
   ],
   "source": [
    "model_lr_b = LogisticRegression(random_state=12345, solver='liblinear', class_weight='balanced')\n",
    "model_lr_b.fit(features_train, target_train)\n",
    "predicted_valid_lr_b = model_lr_b.predict(features_valid)\n",
    "print(\"F1-мера:\", f1_score(target_valid, predicted_valid_lr_b))\n",
    "\n",
    "probabilities_valid_lr_b = model_lr_b.predict_proba(features_valid)\n",
    "probabilities_one_valid_lr_b = probabilities_valid_lr_b[:, 1]\n",
    "\n",
    "#Посчитаем AUC-ROC.\n",
    "auc_roc = roc_auc_score(target_valid, probabilities_one_valid_lr_b)\n",
    "print('AUC-ROC:', auc_roc)"
   ]
  },
  {
   "cell_type": "markdown",
   "metadata": {},
   "source": [
    "Значение F1-меры значительно выросло. В прошлый раз мы получили - 0.3056603773584906.\n",
    "\n",
    "Значение AUC-ROC также выросло. В прошлый раз мы получили - 0.7707985293720265."
   ]
  },
  {
   "cell_type": "markdown",
   "metadata": {},
   "source": [
    "**Теперь попробуем использовать технику увеличения выборки: upsampling.**\n",
    "\n",
    "Посмотрим на результат."
   ]
  },
  {
   "cell_type": "markdown",
   "metadata": {},
   "source": [
    "**Пишем функцию для применения техники upsampling.**\n",
    "\n",
    "В рамках нее:\n",
    "- разделим обучающую выборку на отрицательные и положительные объекты;\n",
    "- скопируем несколько раз положительные объекты;\n",
    "- с учётом полученных данных создадим новую обучающую выборку;\n",
    "- перемешаем данные."
   ]
  },
  {
   "cell_type": "code",
   "execution_count": 33,
   "metadata": {},
   "outputs": [],
   "source": [
    "def upsample(features, target, repeat):\n",
    "    features_zeros = features[target == 0]\n",
    "    features_ones = features[target == 1]\n",
    "    target_zeros = target[target == 0]\n",
    "    target_ones = target[target == 1]\n",
    "\n",
    "    features_upsampled = pd.concat([features_zeros] + [features_ones] * repeat)\n",
    "    target_upsampled = pd.concat([target_zeros] + [target_ones] * repeat)\n",
    "    \n",
    "    features_upsampled, target_upsampled = shuffle(\n",
    "        features_upsampled, target_upsampled, random_state=12345)\n",
    "    \n",
    "    return features_upsampled, target_upsampled"
   ]
  },
  {
   "cell_type": "code",
   "execution_count": 34,
   "metadata": {
    "scrolled": true
   },
   "outputs": [
    {
     "name": "stdout",
     "output_type": "stream",
     "text": [
      "F1-мера: 0.40463065049614116\n",
      "AUC-ROC: 0.7735134370445019\n"
     ]
    }
   ],
   "source": [
    "#Обучим на новых данных модель LogisticRegression. \n",
    "#Найдем для неё значение F1-меры.\n",
    "warnings.filterwarnings(\"ignore\", category=FutureWarning)\n",
    "\n",
    "features_upsampled, target_upsampled = upsample(features_train, target_train, 10)\n",
    "model_lr_up = LogisticRegression(random_state=12345)\n",
    "model_lr_up.fit(features_upsampled, target_upsampled)\n",
    "predicted_valid_lr_up = model_lr_up.predict(features_valid)\n",
    "\n",
    "print(\"F1-мера:\", f1_score(target_valid, predicted_valid_lr_up))\n",
    "\n",
    "probabilities_valid_lr_up = model_lr_up.predict_proba(features_valid)\n",
    "probabilities_one_valid_lr_up = probabilities_valid_lr_up[:, 1]\n",
    "\n",
    "#Посчитаем AUC-ROC.\n",
    "auc_roc = roc_auc_score(target_valid, probabilities_one_valid_lr_up)\n",
    "print('AUC-ROC:', auc_roc)"
   ]
  },
  {
   "cell_type": "markdown",
   "metadata": {},
   "source": [
    "Значение F1-меры уменьшилось относительно предыдущей техники, но оно в несколько разы выше значения, полученного на несбаласнированных данных.\n",
    "\n",
    "Значение AUC-ROC незначительно увеличилось."
   ]
  },
  {
   "cell_type": "markdown",
   "metadata": {},
   "source": [
    "<font color='blue'> \n",
    "### <u>КОММЕНТАРИЙ РЕВЬЮЕРА</u>\n",
    "</font>\n",
    "<font color='green'>\n",
    "есть работа по испробованию способов борьбы)"
   ]
  },
  {
   "cell_type": "markdown",
   "metadata": {},
   "source": [
    "**Теперь попробуем использовать технику уменьшения выборки downsampling.**\n",
    "\n",
    "Посмотрим на результаты."
   ]
  },
  {
   "cell_type": "markdown",
   "metadata": {},
   "source": [
    "**Пишем функцию для применения техники downsampling.**\n",
    "\n",
    "В рамках нее:\n",
    "- разделим обучающую выборку на отрицательные и положительные объекты;\n",
    "- случайным образом отбросим часть из отрицательных объектов;\n",
    "- с учётом полученных данных создадим новую обучающую выборку;\n",
    "- перемешаем данные."
   ]
  },
  {
   "cell_type": "code",
   "execution_count": 35,
   "metadata": {},
   "outputs": [],
   "source": [
    "def downsample(features, target, fraction):\n",
    "    features_zeros = features[target == 0]\n",
    "    features_ones = features[target == 1]\n",
    "    target_zeros = target[target == 0]\n",
    "    target_ones = target[target == 1]\n",
    "\n",
    "    features_downsampled = pd.concat(\n",
    "        [features_zeros.sample(frac=fraction, random_state=12345)] + [features_ones])\n",
    "    target_downsampled = pd.concat(\n",
    "        [target_zeros.sample(frac=fraction, random_state=12345)] + [target_ones])\n",
    "    \n",
    "    features_downsampled, target_downsampled = shuffle(\n",
    "        features_downsampled, target_downsampled, random_state=12345)\n",
    "    \n",
    "    return features_downsampled, target_downsampled"
   ]
  },
  {
   "cell_type": "code",
   "execution_count": 36,
   "metadata": {},
   "outputs": [
    {
     "name": "stdout",
     "output_type": "stream",
     "text": [
      "F1: 0.4064587973273942\n",
      "AUC-ROC: 0.7730127368590045\n"
     ]
    }
   ],
   "source": [
    "#Обучим на новых данных модель LogisticRegression. \n",
    "#Найдем для неё значение F1-меры.\n",
    "\n",
    "features_downsampled, target_downsampled = downsample(features_train, target_train, 0.1)\n",
    "\n",
    "model_lr_d = LogisticRegression(random_state=12345)\n",
    "model_lr_d.fit(features_downsampled, target_downsampled)\n",
    "predicted_valid_lr_d = model_lr_d.predict(features_valid)\n",
    "\n",
    "print(\"F1:\", f1_score(target_valid, predicted_valid_lr_d))\n",
    "\n",
    "probabilities_valid_lr_d = model_lr_d.predict_proba(features_valid)\n",
    "probabilities_one_valid_lr_d = probabilities_valid_lr_d[:, 1]\n",
    "\n",
    "#Посчитаем AUC-ROC.\n",
    "auc_roc = roc_auc_score(target_valid, probabilities_one_valid_lr_d)\n",
    "print('AUC-ROC:', auc_roc)"
   ]
  },
  {
   "cell_type": "markdown",
   "metadata": {},
   "source": [
    "Значение F1-меры почти совпадает со значением, полученным предыдущей техникой. Значение AUC-ROC аналогично."
   ]
  },
  {
   "cell_type": "markdown",
   "metadata": {},
   "source": [
    "#### Полученные результаты для LogisticRegression\n",
    "**Взвешивание классов:**\n",
    "- F1-мера: 0.47763864042933807\n",
    "- AUC-ROC: 0.7729586930294586\n",
    "\n",
    "**Увеличение выборки:**\n",
    "- F1-мера: 0.40463065049614116\n",
    "- AUC-ROC: 0.7735134370445019\n",
    "\n",
    "**Уменьшение выборки:**\n",
    "- F1: 0.4064587973273942\n",
    "- AUC-ROC: 0.7730127368590045"
   ]
  },
  {
   "cell_type": "markdown",
   "metadata": {},
   "source": [
    "<font color='blue'> \n",
    "### <u>КОММЕНТАРИЙ РЕВЬЮЕРА</u>\n",
    "</font>\n",
    "<font color='green'>\n",
    "логистическая пока не может справиться)"
   ]
  },
  {
   "cell_type": "markdown",
   "metadata": {},
   "source": [
    "### Рассмотрим дерево решений."
   ]
  },
  {
   "cell_type": "markdown",
   "metadata": {},
   "source": [
    "Обучим дерево решений, сделав веса классов сбалансированными.\n",
    "Придадим объектам редкого класса больший вес."
   ]
  },
  {
   "cell_type": "code",
   "execution_count": 37,
   "metadata": {},
   "outputs": [],
   "source": [
    "#Обучаем модель на обучающей выборке, изменяя гиперпараметр. \n",
    "#Выберем вариант с наилучшим качеством на валидационной выборке.\n",
    "warnings.filterwarnings('ignore')\n",
    "acc_dict_dtc = {}\n",
    "for i in range(1, 15):\n",
    "    model = DecisionTreeClassifier(random_state=12345, max_depth=i)\n",
    "    model.fit(features_train, target_train)\n",
    "    predictions = model.predict(features_valid)\n",
    "    acc_dict_dtc[i] = f1_score(target_valid, predictions)\n",
    "    \n",
    "for k, v in acc_dict_dtc.items():\n",
    "    if(v == max(acc_dict_dtc.values())):\n",
    "        max_depth_max = k"
   ]
  },
  {
   "cell_type": "code",
   "execution_count": 38,
   "metadata": {},
   "outputs": [
    {
     "name": "stdout",
     "output_type": "stream",
     "text": [
      "Глубина дерева для расчетов: 7\n"
     ]
    }
   ],
   "source": [
    "print('Глубина дерева для расчетов:', max_depth_max)"
   ]
  },
  {
   "cell_type": "code",
   "execution_count": 39,
   "metadata": {},
   "outputs": [
    {
     "name": "stdout",
     "output_type": "stream",
     "text": [
      "F1-мера: 0.5531914893617021\n",
      "AUC-ROC: 0.800509124664809\n"
     ]
    }
   ],
   "source": [
    "model_dtr_b = DecisionTreeClassifier(random_state=12345, max_depth=max_depth_max, class_weight='balanced')\n",
    "model_dtr_b.fit(features_train, target_train)\n",
    "predicted_valid_dtr_b = model_dtr_b.predict(features_valid)\n",
    "print(\"F1-мера:\", f1_score(target_valid, predicted_valid_dtr_b))\n",
    "\n",
    "probabilities_valid_dtr_b = model_dtr_b.predict_proba(features_valid)\n",
    "probabilities_one_valid_dtr_b = probabilities_valid_dtr_b[:, 1]\n",
    "\n",
    "#Посчитаем AUC-ROC.\n",
    "auc_roc = roc_auc_score(target_valid, probabilities_one_valid_dtr_b)\n",
    "print('AUC-ROC:', auc_roc)"
   ]
  },
  {
   "cell_type": "markdown",
   "metadata": {},
   "source": [
    "Значение F1-меры значительно увеличилось относительно значения, полученного на несбалансированных данных -  0.4839506172839506."
   ]
  },
  {
   "cell_type": "markdown",
   "metadata": {},
   "source": [
    "**Теперь попробуем использовать технику увеличения выборки: upsampling.**\n",
    "\n",
    "Посмотрим на результат."
   ]
  },
  {
   "cell_type": "code",
   "execution_count": 40,
   "metadata": {},
   "outputs": [],
   "source": [
    "#Обучаем модель на обучающей выборке, изменяя гиперпараметр. \n",
    "#Выберем вариант с наилучшим качеством на валидационной выборке.\n",
    "features_upsampled, target_upsampled = upsample(features_train, target_train, 10)\n",
    "\n",
    "acc_dict_dtc = {}\n",
    "for i in range(1, 15):\n",
    "    model = DecisionTreeClassifier(random_state=12345, max_depth=i)\n",
    "    model.fit(features_upsampled, target_upsampled)\n",
    "    predictions = model.predict(features_valid)\n",
    "    acc_dict_dtc[i] = f1_score(target_valid, predictions)\n",
    "    \n",
    "for k, v in acc_dict_dtc.items():\n",
    "    if(v == max(acc_dict_dtc.values())):\n",
    "        max_depth_max = k"
   ]
  },
  {
   "cell_type": "code",
   "execution_count": 41,
   "metadata": {},
   "outputs": [
    {
     "name": "stdout",
     "output_type": "stream",
     "text": [
      "Глубина дерева для расчетов: 5\n"
     ]
    }
   ],
   "source": [
    "print('Глубина дерева для расчетов:', max_depth_max)"
   ]
  },
  {
   "cell_type": "code",
   "execution_count": 42,
   "metadata": {},
   "outputs": [
    {
     "name": "stdout",
     "output_type": "stream",
     "text": [
      "F1-мера: 0.4869186046511628\n",
      "AUC-ROC: 0.8197980032394507\n"
     ]
    }
   ],
   "source": [
    "#Обучим на новых данных модель DecisionTreeClassifier. \n",
    "#Найдем для неё значение F1-меры.\n",
    "\n",
    "model_dtr_up = DecisionTreeClassifier(random_state=12345, max_depth=max_depth_max)\n",
    "model_dtr_up.fit(features_upsampled, target_upsampled)\n",
    "predicted_valid_dtr_up = model_dtr_up.predict(features_valid)\n",
    "\n",
    "print(\"F1-мера:\", f1_score(target_valid, predicted_valid_dtr_up))\n",
    "\n",
    "probabilities_valid_dtr_up = model_dtr_up.predict_proba(features_valid)\n",
    "probabilities_one_valid_dtr_up = probabilities_valid_dtr_up[:, 1]\n",
    "\n",
    "#Посчитаем AUC-ROC.\n",
    "auc_roc = roc_auc_score(target_valid, probabilities_one_valid_dtr_up)\n",
    "print('AUC-ROC:', auc_roc)"
   ]
  },
  {
   "cell_type": "markdown",
   "metadata": {},
   "source": [
    "Значение F1-меры увеличилось относительно значения, полученного на несбалансированных данных -  0.3172737955346651, но уменьшилос относительно рпедыдущей техники."
   ]
  },
  {
   "cell_type": "markdown",
   "metadata": {},
   "source": [
    "**Теперь попробуем использовать технику уменьшения выборки downsampling.**\n",
    "\n",
    "Посмотрим на результаты."
   ]
  },
  {
   "cell_type": "code",
   "execution_count": 43,
   "metadata": {},
   "outputs": [],
   "source": [
    "#Обучаем модель на обучающей выборке, изменяя гиперпараметр. \n",
    "#Выберем вариант с наилучшим качеством на валидационной выборке.\n",
    "features_downsampled, target_downsampled = downsample(features_train, target_train, 0.1)\n",
    "\n",
    "acc_dict_dtc = {}\n",
    "for i in range(1, 15):\n",
    "    model = DecisionTreeClassifier(random_state=12345, max_depth=i)\n",
    "    model.fit(features_downsampled, target_downsampled)\n",
    "    predictions = model.predict(features_valid)\n",
    "    acc_dict_dtc[i] = f1_score(target_valid, predictions)\n",
    "    \n",
    "for k, v in acc_dict_dtc.items():\n",
    "    if(v == max(acc_dict_dtc.values())):\n",
    "        max_depth_max = k"
   ]
  },
  {
   "cell_type": "code",
   "execution_count": 44,
   "metadata": {},
   "outputs": [
    {
     "name": "stdout",
     "output_type": "stream",
     "text": [
      "Глубина дерева для расчетов: 5\n"
     ]
    }
   ],
   "source": [
    "print('Глубина дерева для расчетов:', max_depth_max)"
   ]
  },
  {
   "cell_type": "code",
   "execution_count": 45,
   "metadata": {},
   "outputs": [
    {
     "name": "stdout",
     "output_type": "stream",
     "text": [
      "F1: 0.5156626506024097\n",
      "AUC-ROC: 0.8067058855319901\n"
     ]
    }
   ],
   "source": [
    "#Обучим на новых данных модель DecisionTreeClassifier. \n",
    "#Найдем для неё значение F1-меры.\n",
    "\n",
    "model_dtr_d = DecisionTreeClassifier(random_state=12345, max_depth=max_depth_max)\n",
    "model_dtr_d.fit(features_downsampled, target_downsampled)\n",
    "predicted_valid_dtr_d = model_dtr_d.predict(features_valid)\n",
    "print(\"F1:\", f1_score(target_valid, predicted_valid_dtr_d))\n",
    "\n",
    "\n",
    "probabilities_valid_dtr_d = model_dtr_d.predict_proba(features_valid)\n",
    "probabilities_one_valid_dtr_d = probabilities_valid_dtr_d[:, 1]\n",
    "\n",
    "#Посчитаем AUC-ROC.\n",
    "auc_roc = roc_auc_score(target_valid, probabilities_one_valid_dtr_d)\n",
    "print('AUC-ROC:', auc_roc)"
   ]
  },
  {
   "cell_type": "markdown",
   "metadata": {},
   "source": [
    "Значение F1-меры почти совпадает со значением, полученным предыдущей техникой."
   ]
  },
  {
   "cell_type": "markdown",
   "metadata": {},
   "source": [
    "#### Полученные результаты для DecisionTreeClassifier\n",
    "**Взвешивание классов:**\n",
    "- F1-мера: 0.5531914893617021\n",
    "- AUC-ROC: 0.800509124664809\n",
    "\n",
    "**Увеличение выборки:**\n",
    "- F1-мера: 0.4869186046511628\n",
    "- AUC-ROC: 0.8197980032394507\n",
    "\n",
    "**Уменьшение выборки:**\n",
    "- F1: 0.5156626506024097\n",
    "- AUC-ROC: 0.8067058855319901"
   ]
  },
  {
   "cell_type": "markdown",
   "metadata": {},
   "source": [
    "<font color='blue'> \n",
    "### <u>КОММЕНТАРИЙ РЕВЬЮЕРА</u>\n",
    "</font>\n",
    "<font color='green'>\n",
    "А была надежда)"
   ]
  },
  {
   "cell_type": "markdown",
   "metadata": {},
   "source": [
    "### Рассмотрим случайный лес."
   ]
  },
  {
   "cell_type": "markdown",
   "metadata": {},
   "source": [
    "Обучим случайный лес, сделав веса классов сбалансированными.\n",
    "Придадим объектам редкого класса больший вес."
   ]
  },
  {
   "cell_type": "code",
   "execution_count": 46,
   "metadata": {},
   "outputs": [],
   "source": [
    "#Обучаем модель на обучающей выборке, изменяя гиперпараметр. \n",
    "#Выберем вариант с наилучшим качеством на валидационной выборке.\n",
    "warnings.filterwarnings('ignore')\n",
    "\n",
    "acc_dict_dtc = {}\n",
    "for i in range(1, 15):\n",
    "    model = RandomForestClassifier(n_estimators=100, random_state=12345, max_depth=i, class_weight='balanced')\n",
    "    model.fit(features_train, target_train)\n",
    "    predictions = model.predict(features_valid)\n",
    "    acc_dict_dtc[i] = f1_score(target_valid, predictions)\n",
    "    \n",
    "for k, v in acc_dict_dtc.items():\n",
    "    if(v == max(acc_dict_dtc.values())):\n",
    "        max_depth_max = k"
   ]
  },
  {
   "cell_type": "code",
   "execution_count": 47,
   "metadata": {},
   "outputs": [
    {
     "name": "stdout",
     "output_type": "stream",
     "text": [
      "Глубина дерева для расчетов: 10\n"
     ]
    }
   ],
   "source": [
    "print('Глубина дерева для расчетов:', max_depth_max)"
   ]
  },
  {
   "cell_type": "markdown",
   "metadata": {},
   "source": [
    "Обучаем модель на обучающей выборке, выбрав значение для max_depth выше."
   ]
  },
  {
   "cell_type": "code",
   "execution_count": 48,
   "metadata": {},
   "outputs": [
    {
     "name": "stdout",
     "output_type": "stream",
     "text": [
      "F1-мера: 0.5928753180661578\n",
      "AUC-ROC: 0.854043511640882\n"
     ]
    }
   ],
   "source": [
    "model_rfc_b = RandomForestClassifier(n_estimators=100, max_depth=max_depth_max, random_state=12345, class_weight='balanced')\n",
    "model_rfc_b.fit(features_train, target_train)\n",
    "predicted_valid_rfc_b = model_rfc_b.predict(features_valid)\n",
    "print(\"F1-мера:\", f1_score(target_valid, predicted_valid_rfc_b))\n",
    "\n",
    "probabilities_valid_rfc_b = model_rfc_b.predict_proba(features_valid)\n",
    "probabilities_one_valid_rfc_b = probabilities_valid_rfc_b[:, 1]\n",
    "\n",
    "#Посчитаем AUC-ROC.\n",
    "auc_roc = roc_auc_score(target_valid, probabilities_one_valid_rfc_b)\n",
    "print('AUC-ROC:', auc_roc)"
   ]
  },
  {
   "cell_type": "markdown",
   "metadata": {},
   "source": [
    "Значение F1-меры выросло. На несбалансированных данных мы получили - 0.5533980582524272."
   ]
  },
  {
   "cell_type": "markdown",
   "metadata": {},
   "source": [
    "**Теперь попробуем использовать технику увеличения выборки: upsampling.**\n",
    "\n",
    "Посмотрим на результат."
   ]
  },
  {
   "cell_type": "code",
   "execution_count": 49,
   "metadata": {},
   "outputs": [],
   "source": [
    "#Обучаем модель на обучающей выборке, изменяя гиперпараметр. \n",
    "#Выберем вариант с наилучшим качеством на валидационной выборке.\n",
    "\n",
    "features_upsampled, target_upsampled = upsample(features_train, target_train, 10)\n",
    "\n",
    "acc_dict_dtc = {}\n",
    "for i in range(1, 20):\n",
    "    model = RandomForestClassifier(n_estimators=100, random_state=12345, max_depth=i)\n",
    "    model.fit(features_upsampled, target_upsampled)\n",
    "    predictions = model.predict(features_valid)\n",
    "    acc_dict_dtc[i] = f1_score(target_valid, predictions)\n",
    "    \n",
    "for k, v in acc_dict_dtc.items():\n",
    "    if(v == max(acc_dict_dtc.values())):\n",
    "        max_depth_max = k"
   ]
  },
  {
   "cell_type": "code",
   "execution_count": 50,
   "metadata": {},
   "outputs": [
    {
     "name": "stdout",
     "output_type": "stream",
     "text": [
      "Глубина дерева для расчетов: 18\n"
     ]
    }
   ],
   "source": [
    "print('Глубина дерева для расчетов:', max_depth_max)"
   ]
  },
  {
   "cell_type": "code",
   "execution_count": 51,
   "metadata": {},
   "outputs": [
    {
     "name": "stdout",
     "output_type": "stream",
     "text": [
      "F1-мера: 0.5937921727395412\n",
      "AUC-ROC: 0.8410539182571184\n"
     ]
    }
   ],
   "source": [
    "#Обучим на новых данных модель RandomForestClassifier. \n",
    "#Найдем для неё значение F1-меры.\n",
    "\n",
    "model_rfc_up = RandomForestClassifier(n_estimators=100, max_depth=max_depth_max, random_state=12345)\n",
    "model_rfc_up.fit(features_upsampled, target_upsampled)\n",
    "predicted_valid_rfc_up = model_rfc_up.predict(features_valid)\n",
    "\n",
    "print(\"F1-мера:\", f1_score(target_valid, predicted_valid_rfc_up))\n",
    "\n",
    "probabilities_valid_rfc_up = model_rfc_up.predict_proba(features_valid)\n",
    "probabilities_one_valid_rfc_up = probabilities_valid_rfc_up[:, 1]\n",
    "\n",
    "#Посчитаем AUC-ROC.\n",
    "auc_roc = roc_auc_score(target_valid, probabilities_one_valid_rfc_up)\n",
    "print('AUC-ROC:', auc_roc)"
   ]
  },
  {
   "cell_type": "markdown",
   "metadata": {},
   "source": [
    "Значение F1-меры примерно равно значению, полученному предыдущей техникой."
   ]
  },
  {
   "cell_type": "markdown",
   "metadata": {},
   "source": [
    "**Теперь попробуем использовать технику уменьшения выборки downsampling.**\n",
    "\n",
    "Посмотрим на результаты."
   ]
  },
  {
   "cell_type": "code",
   "execution_count": 52,
   "metadata": {},
   "outputs": [],
   "source": [
    "#Обучаем модель на обучающей выборке, изменяя гиперпараметр. \n",
    "#Выберем вариант с наилучшим качеством на валидационной выборке.\n",
    "features_downsampled, target_downsampled = downsample(features_train, target_train, 0.1)\n",
    "\n",
    "acc_dict_dtc = {}\n",
    "for i in range(1, 20):\n",
    "    model = RandomForestClassifier(n_estimators=100, random_state=12345, max_depth=i)\n",
    "    model.fit(features_downsampled, target_downsampled)\n",
    "    predictions = model.predict(features_valid)\n",
    "    acc_dict_dtc[i] = f1_score(target_valid, predictions)\n",
    "    \n",
    "for k, v in acc_dict_dtc.items():\n",
    "    if(v == max(acc_dict_dtc.values())):\n",
    "        max_depth_max = k"
   ]
  },
  {
   "cell_type": "code",
   "execution_count": 53,
   "metadata": {},
   "outputs": [
    {
     "name": "stdout",
     "output_type": "stream",
     "text": [
      "Глубина дерева для расчетов: 15\n"
     ]
    }
   ],
   "source": [
    "print('Глубина дерева для расчетов:', max_depth_max)"
   ]
  },
  {
   "cell_type": "code",
   "execution_count": 54,
   "metadata": {},
   "outputs": [
    {
     "name": "stdout",
     "output_type": "stream",
     "text": [
      "F1: 0.47701532311792133\n",
      "AUC-ROC: 0.8391266199240524\n"
     ]
    }
   ],
   "source": [
    "#Обучим на новых данных модель RandomForestClassifier. \n",
    "#Найдем для неё значение F1-меры.\n",
    "\n",
    "model_rfc_d = RandomForestClassifier(n_estimators=100, random_state=12345, max_depth=max_depth_max)\n",
    "model_rfc_d.fit(features_downsampled, target_downsampled)\n",
    "predicted_valid_rfc_d = model_rfc_d.predict(features_valid)\n",
    "\n",
    "print(\"F1:\", f1_score(target_valid, predicted_valid_rfc_d))\n",
    "\n",
    "probabilities_valid_rfc_d = model_rfc_d.predict_proba(features_valid)\n",
    "probabilities_one_valid_rfc_d = probabilities_valid_rfc_d[:, 1]\n",
    "\n",
    "#Посчитаем AUC-ROC.\n",
    "auc_roc = roc_auc_score(target_valid, probabilities_one_valid_rfc_d)\n",
    "print('AUC-ROC:', auc_roc)"
   ]
  },
  {
   "cell_type": "markdown",
   "metadata": {},
   "source": [
    "Значение F1-меры снизилось относительно предыдущей техники."
   ]
  },
  {
   "cell_type": "markdown",
   "metadata": {},
   "source": [
    "#### Полученные результаты для RandomForestClassifier\n",
    "**Взвешивание классов:**\n",
    "- F1-мера: 0.5928753180661578\n",
    "- AUC-ROC: 0.854043511640882\n",
    "\n",
    "**Увеличение выборки:**\n",
    "- F1-мера: 0.5937921727395412\n",
    "- AUC-ROC: 0.8410539182571184\n",
    "\n",
    "**Уменьшение выборки:**\n",
    "- F1: 0.47701532311792133\n",
    "- AUC-ROC: 0.8391266199240524"
   ]
  },
  {
   "cell_type": "markdown",
   "metadata": {},
   "source": [
    "<font color='blue'> \n",
    "### <u>КОММЕНТАРИЙ РЕВЬЮЕРА</u>\n",
    "</font>\n",
    "<font color='green'>\n",
    "кажется есть победитель)"
   ]
  },
  {
   "cell_type": "markdown",
   "metadata": {},
   "source": [
    "### Вывод\n",
    "\n",
    "#### Полученные результаты для LogisticRegression\n",
    "**Взвешивание классов:**\n",
    "- F1-мера: 0.47763864042933807\n",
    "- AUC-ROC: 0.7729586930294586\n",
    "\n",
    "**Увеличение выборки:**\n",
    "- F1-мера: 0.40463065049614116\n",
    "- AUC-ROC: 0.7735134370445019\n",
    "\n",
    "**Уменьшение выборки:**\n",
    "- F1: 0.4064587973273942\n",
    "- AUC-ROC: 0.7730127368590045\n",
    "\n",
    "#### Полученные результаты для RandomForestClassifier\n",
    "**Взвешивание классов:**\n",
    "- F1-мера: 0.5928753180661578\n",
    "- AUC-ROC: 0.854043511640882\n",
    "\n",
    "**Увеличение выборки:**\n",
    "- F1-мера: 0.5937921727395412\n",
    "- AUC-ROC: 0.8410539182571184\n",
    "\n",
    "**Уменьшение выборки:**\n",
    "- F1: 0.47701532311792133\n",
    "- AUC-ROC: 0.8391266199240524\n",
    "\n",
    "#### Полученные результаты для DecisionTreeClassifier\n",
    "**Взвешивание классов:**\n",
    "- F1-мера: 0.5531914893617021\n",
    "- AUC-ROC: 0.800509124664809\n",
    "\n",
    "**Увеличение выборки:**\n",
    "- F1-мера: 0.4869186046511628\n",
    "- AUC-ROC: 0.8197980032394507\n",
    "\n",
    "**Уменьшение выборки:**\n",
    "- F1: 0.5156626506024097\n",
    "- AUC-ROC: 0.8067058855319901\n",
    "\n",
    "Как правило со значительным ростом F1-меры растет значение AUC-ROC."
   ]
  },
  {
   "cell_type": "markdown",
   "metadata": {},
   "source": [
    "# 4. Тестирование модели"
   ]
  },
  {
   "cell_type": "markdown",
   "metadata": {},
   "source": [
    "Протестируем полученные модели. Выберем те, где значение F1-меры от 0,59 и выше."
   ]
  },
  {
   "cell_type": "markdown",
   "metadata": {},
   "source": [
    "**Модели линейной регрессии.**"
   ]
  },
  {
   "cell_type": "code",
   "execution_count": 55,
   "metadata": {},
   "outputs": [
    {
     "name": "stdout",
     "output_type": "stream",
     "text": [
      "Техника взвешивания классов:\n",
      "F1-мера: 0.5025295109612141\n",
      "AUC-ROC: 0.7643816690016393\n"
     ]
    }
   ],
   "source": [
    "#Техника взвешивания классов.\n",
    "predictions = model_lr_b.predict(features_test)\n",
    "print('Техника взвешивания классов:')\n",
    "print(\"F1-мера:\", f1_score(target_test, predictions))\n",
    "\n",
    "probabilities_test_lr_b = model_lr_b.predict_proba(features_test)\n",
    "probabilities_one_test_lr_b = probabilities_test_lr_b[:, 1]\n",
    "\n",
    "#Посчитаем AUC-ROC.\n",
    "auc_roc = roc_auc_score(target_test, probabilities_one_test_lr_b)\n",
    "print('AUC-ROC:', auc_roc)"
   ]
  },
  {
   "cell_type": "code",
   "execution_count": 56,
   "metadata": {},
   "outputs": [
    {
     "name": "stdout",
     "output_type": "stream",
     "text": [
      "Техника уменьшения выборки:\n",
      "F1-мера: 0.42336548767416937\n",
      "AUC-ROC: 0.7650948157654566\n"
     ]
    }
   ],
   "source": [
    "#Техника уменьшения выборки.\n",
    "predictions = model_lr_d.predict(features_test)\n",
    "print('Техника уменьшения выборки:')\n",
    "print(\"F1-мера:\", f1_score(target_test, predictions))\n",
    "\n",
    "probabilities_test_lr_d = model_lr_d.predict_proba(features_test)\n",
    "probabilities_one_test_lr_d = probabilities_test_lr_d[:, 1]\n",
    "\n",
    "#Посчитаем AUC-ROC.\n",
    "auc_roc = roc_auc_score(target_test, probabilities_one_test_lr_d)\n",
    "print('AUC-ROC:', auc_roc)"
   ]
  },
  {
   "cell_type": "code",
   "execution_count": 57,
   "metadata": {},
   "outputs": [
    {
     "name": "stdout",
     "output_type": "stream",
     "text": [
      "Техника увеличения выборки:\n",
      "F1-мера: 0.4286483575659666\n",
      "AUC-ROC: 0.7667206117280634\n"
     ]
    }
   ],
   "source": [
    "#Техника увеличения выборки.\n",
    "predictions = model_lr_up.predict(features_test)\n",
    "print('Техника увеличения выборки:')\n",
    "print(\"F1-мера:\", f1_score(target_test, predictions))\n",
    "\n",
    "probabilities_test_lr_up = model_lr_up.predict_proba(features_test)\n",
    "probabilities_one_test_lr_up = probabilities_test_lr_up[:, 1]\n",
    "\n",
    "#Посчитаем AUC-ROC.\n",
    "auc_roc = roc_auc_score(target_test, probabilities_one_test_lr_up)\n",
    "print('AUC-ROC:', auc_roc)"
   ]
  },
  {
   "cell_type": "markdown",
   "metadata": {},
   "source": [
    "Лучшее значение F1-меры получено техникой взвешивания классов: 0.5050335570469798. Но это значение меньше 0.59."
   ]
  },
  {
   "cell_type": "markdown",
   "metadata": {},
   "source": [
    "**Модели дерева решений**"
   ]
  },
  {
   "cell_type": "code",
   "execution_count": 58,
   "metadata": {},
   "outputs": [
    {
     "name": "stdout",
     "output_type": "stream",
     "text": [
      "Техника уменьшения выборки:\n",
      "F1-мера: 0.5430566330488751\n",
      "AUC-ROC: 0.8103587917298797\n"
     ]
    }
   ],
   "source": [
    "#Техника уменьшения выборки.\n",
    "predictions = model_dtr_d.predict(features_test)\n",
    "print('Техника уменьшения выборки:')\n",
    "print(\"F1-мера:\", f1_score(target_test, predictions))\n",
    "\n",
    "probabilities_test_dtr_d = model_dtr_d.predict_proba(features_test)\n",
    "probabilities_one_test_dtr_d = probabilities_test_dtr_d[:, 1]\n",
    "\n",
    "#Посчитаем AUC-ROC.\n",
    "auc_roc = roc_auc_score(target_test, probabilities_one_test_dtr_d)\n",
    "print('AUC-ROC:', auc_roc)"
   ]
  },
  {
   "cell_type": "code",
   "execution_count": 59,
   "metadata": {},
   "outputs": [
    {
     "name": "stdout",
     "output_type": "stream",
     "text": [
      "Техника взвешивания классов:\n",
      "F1-мера: 0.5881226053639846\n",
      "AUC-ROC: 0.8142342009704157\n"
     ]
    }
   ],
   "source": [
    "#Техника взвешивания классов.\n",
    "predictions = model_dtr_b.predict(features_test)\n",
    "print('Техника взвешивания классов:')\n",
    "print(\"F1-мера:\", f1_score(target_test, predictions))\n",
    "\n",
    "probabilities_test_dtr_b = model_dtr_b.predict_proba(features_test)\n",
    "probabilities_one_test_dtr_b = probabilities_test_dtr_b[:, 1]\n",
    "\n",
    "#Посчитаем AUC-ROC.\n",
    "auc_roc = roc_auc_score(target_test, probabilities_one_test_dtr_b)\n",
    "print('AUC-ROC:', auc_roc)"
   ]
  },
  {
   "cell_type": "code",
   "execution_count": 60,
   "metadata": {},
   "outputs": [
    {
     "name": "stdout",
     "output_type": "stream",
     "text": [
      "Техника увеличения выборки:\n",
      "F1-мера: 0.5131034482758621\n",
      "AUC-ROC: 0.8462818850300222\n"
     ]
    }
   ],
   "source": [
    "#Техника увеличения выборки.\n",
    "predictions = model_dtr_up.predict(features_test)\n",
    "print('Техника увеличения выборки:')\n",
    "print(\"F1-мера:\", f1_score(target_test, predictions))\n",
    "\n",
    "probabilities_test_dtr_up = model_dtr_up.predict_proba(features_test)\n",
    "probabilities_one_test_dtr_up = probabilities_test_dtr_up[:, 1]\n",
    "\n",
    "#Посчитаем AUC-ROC.\n",
    "auc_roc = roc_auc_score(target_test, probabilities_one_test_dtr_up)\n",
    "print('AUC-ROC:', auc_roc)"
   ]
  },
  {
   "cell_type": "markdown",
   "metadata": {},
   "source": [
    "Лучшее значение F1-меры получено техникой взвешивания классов: 0.5703275529865126. Но это значение меньше 0.59."
   ]
  },
  {
   "cell_type": "markdown",
   "metadata": {},
   "source": [
    "**Модели случайного леса.**"
   ]
  },
  {
   "cell_type": "code",
   "execution_count": 61,
   "metadata": {},
   "outputs": [
    {
     "name": "stdout",
     "output_type": "stream",
     "text": [
      "Техника увеличения выборки:\n",
      "F1-мера: 0.6007509386733415\n",
      "AUC-ROC: 0.8518314770177662\n"
     ]
    }
   ],
   "source": [
    "#Техника увеличения выборки.\n",
    "predictions = model_rfc_up.predict(features_test)\n",
    "print('Техника увеличения выборки:')\n",
    "print(\"F1-мера:\", f1_score(target_test, predictions))\n",
    "\n",
    "probabilities_test_rfc_up = model_rfc_up.predict_proba(features_test)\n",
    "probabilities_one_test_rfc_up = probabilities_test_rfc_up[:, 1]\n",
    "\n",
    "#Посчитаем AUC-ROC.\n",
    "auc_roc = roc_auc_score(target_test, probabilities_one_test_rfc_up)\n",
    "print('AUC-ROC:', auc_roc)"
   ]
  },
  {
   "cell_type": "code",
   "execution_count": 62,
   "metadata": {},
   "outputs": [
    {
     "name": "stdout",
     "output_type": "stream",
     "text": [
      "Техника взвешивания классов:\n",
      "F1-мера: 0.6439482961222093\n",
      "AUC-ROC: 0.8663333685688381\n",
      "Feature ranking:\n",
      "1. feature creditscore (0.305295)\n",
      "2. feature age (0.184465)\n",
      "3. feature tenure (0.125736)\n",
      "4. feature balance (0.093135)\n",
      "5. feature numofproducts (0.088490)\n",
      "6. feature hascrcard (0.058414)\n",
      "7. feature isactivemember (0.049070)\n",
      "8. feature estimatedsalary (0.049012)\n",
      "9. feature Germany (0.024652)\n",
      "10. feature Spain (0.011449)\n",
      "11. feature Male (0.010283)\n"
     ]
    },
    {
     "data": {
      "image/png": "[encoded data removed]",
      "text/plain": [
       "<Figure size 1296x576 with 1 Axes>"
      ]
     },
     "metadata": {
      "needs_background": "light"
     },
     "output_type": "display_data"
    }
   ],
   "source": [
    "#Техника взвешивания классов.\n",
    "predictions = model_rfc_b.predict(features_test)\n",
    "print('Техника взвешивания классов:')\n",
    "print(\"F1-мера:\", f1_score(target_test, predictions))\n",
    "\n",
    "probabilities_test_rfc_b = model_rfc_b.predict_proba(features_test)\n",
    "probabilities_one_test_rfc_b = probabilities_test_rfc_b[:, 1]\n",
    "\n",
    "#Посчитаем AUC-ROC.\n",
    "auc_roc = roc_auc_score(target_test, probabilities_one_test_rfc_b)\n",
    "print('AUC-ROC:', auc_roc)\n",
    "\n",
    "#Посчитаем важность факторов и отобразим.\n",
    "importances = model_rfc_b.feature_importances_\n",
    "std = np.std([tree.feature_importances_ for tree in model_rfc_b.estimators_], axis=0)\n",
    "indices = np.argsort(importances)[::-1]\n",
    "\n",
    "print(\"Feature ranking:\")\n",
    "\n",
    "for f in range(features_test.shape[1]):\n",
    "    print(\"%d. feature %s (%f)\" % (f + 1, features_test.columns.values[f], importances[indices[f]]))\n",
    "\n",
    "plt.figure(figsize=(18, 8))\n",
    "plt.title(\"Feature importances\")\n",
    "plt.bar(range(features_test.shape[1]), importances[indices],\n",
    "        color=\"r\", yerr=std[indices], align=\"center\")\n",
    "plt.xticks(range(features_test.shape[1]), features_test.columns.values)\n",
    "plt.xlim([-1, features_test.shape[1]])\n",
    "plt.show()"
   ]
  },
  {
   "cell_type": "markdown",
   "metadata": {},
   "source": [
    "<font color=purple>**Ответ: Добавила график важности факторов.** </font>"
   ]
  },
  {
   "cell_type": "code",
   "execution_count": 63,
   "metadata": {},
   "outputs": [
    {
     "name": "stdout",
     "output_type": "stream",
     "text": [
      "Техника уменьшения выборки:\n",
      "F1-мера: 0.4891994917407878\n",
      "AUC-ROC: 0.8405424679642266\n"
     ]
    }
   ],
   "source": [
    "#Техника уменьшения выборки.\n",
    "predictions_rfc_d = model_rfc_d.predict(features_test)\n",
    "print('Техника уменьшения выборки:')\n",
    "print(\"F1-мера:\", f1_score(target_test, predictions_rfc_d))\n",
    "\n",
    "probabilities_test_rfc_d = model_rfc_d.predict_proba(features_test)\n",
    "probabilities_one_test_rfc_d = probabilities_test_rfc_d[:, 1]\n",
    "\n",
    "#Посчитаем AUC-ROC.\n",
    "auc_roc = roc_auc_score(target_test, probabilities_one_test_rfc_d)\n",
    "print('AUC-ROC:', auc_roc)"
   ]
  },
  {
   "cell_type": "markdown",
   "metadata": {},
   "source": [
    "<font color='blue'> \n",
    "### <u>КОММЕНТАРИЙ РЕВЬЮЕРА</u>\n",
    "</font>\n",
    "<font color='green'>\n",
    "в общем-то можно было только модель-победитель каждого метода тестировать, не все. Но хорошего много не бывает))<br>"
   ]
  },
  {
   "cell_type": "markdown",
   "metadata": {},
   "source": [
    "### Вывод\n",
    "\n",
    "Лучшее значение F1-меры получено техникой взвешивания классов для модели случайного леса: 0.64394829612220938. Это значение больше 0.59.\n",
    "При этом значение AUC-ROC: 0.8663333685688381.\n",
    "\n",
    "Значение, полученноее техникой увеличения выборки для модели случайного леса, также дало в результате значение F1-меры больше 0.59: 0.6007509386733415.\n",
    "При этом значение AUC-ROC: 0.8518314770177662."
   ]
  },
  {
   "cell_type": "markdown",
   "metadata": {},
   "source": [
    "<font color='blue'><u><b>КОММЕНТАРИЙ РЕВЬЮЕРА</b></u></font><br />\n",
    "<font color='green'>\n",
    "<br/> Добротная, качественная работа! <br>\n",
    "Подготовка данных, разносторонняя работа с диссбалансом и исследование моделей и поиск парамтров для них - ничего не забыто <br>\n",
    "И видно, что проделана рабочая аналитическая работа: результативно и с выводами.<br>  \n",
    "\n",
    "<font color='green'>\n",
    "Если говорить, что можно ещё улучшить в подобных проектах, то я бы выделили такие моменты:<br>\n",
    "1) После подбора параметров модели, когда уже настаёт этап тестировани. Можно обучить на обобщённой выборке (трайн + валидация) ну и тестировать потом. Это может ещё прибавить точности.(если не использовать кросс-валидации)<br>\n",
    "    \n",
    "2) Для понимания, а какие в итоге факторы важны при моделировании, можно выводить их важность, использую feature_importances_, ну и график заодно. Это будет смотреться очнь здорово: результативная метрика и график важности факторов)))<br>\n",
    "    \n",
    "3) Наверное ты в курсе, просто хочу напомнить: F1 и AUC - отличные метрики, но нужно держать в голове, что это лишь бобщённые характеристики. А в реальной практике бизнесу часто важно знать детали самой ошибки - из каких ошибок/успехов она складывается. И в этом случае очень кстати будут меры полноты и точности. Рассмотри возможность их использования для своих проектов. Только через них можно выйти на финансовые возможности модели. Ведь перед запуском её в бой, будет сравнение стоимости создания и поддержки модели со стомостью \"оставить как есть\" <br>\n",
    "    \n",
    "4) предварительная работа с данными:<br>\n",
    "- На этом этапе нужно БОЛЬШЕ аргументации, для принимаемых решений.<br>\n",
    "- Также, можно организовать для себя некую систему работы с данными:<br>\n",
    " \n",
    "Например, алгоритм такой может:<br>\n",
    "1) анализ аномалий <br>\n",
    "2) анализ пропусков <br>\n",
    "3) проверка дубликатов<br>\n",
    "4) Анализ факторов: исходя из типа шкалы, могут применять следующие графический и аналитический анализы:<br>\n",
    "- колличественная-колличественная: аналитически методод - корреляции, графический - скатерплот.<br>\n",
    "- колличественная-номинальная: аналитически методод - проверка гипотез (стьюдент, маннауитни), графический - боксплот.<br>\n",
    "- номинальная-номинальная: аналитически методод - Хи-квадрат, графический - круговая диаграмма<br>\n",
    "    \n",
    "<font color='red'>\n",
    "Что ещё лучше сделать в этой работе:<br>\n",
    "1) Есть ещё лишние столбцы в исходных данных. Посмотри комментарии, пожалуйста.<br>\n",
    "2) И если будет время, то очень здорово будет, если найдёшь возможность сделать график важности факторов. Это необходимая вещь для финалной части любой модельной работы.<br>\n",
    "<font color='green'>    \n",
    "    \n",
    "<br><br>\n",
    "Спасибо) БУДУ ЖДАТЬ КОММЕНТАРИЕВ!"
   ]
  },
  {
   "cell_type": "markdown",
   "metadata": {},
   "source": [
    "<font color=purple>**Ответ: Спасибо за комментарии! Добавила график, убралаи лишние столбцы, поправила выводы.** </font>"
   ]
  },
  {
   "cell_type": "markdown",
   "metadata": {},
   "source": [
    "<font color='blue'><u><b>КОММЕНТАРИЙ РЕВЬЮЕРА 2</b></u></font><br />\n",
    "<font color='green'>\n",
    "<br/> Анастасия, привет! <br>\n",
    "Спасибо за отклик на комментарии<br>\n",
    "График - что надо. Кстати, видно, что часть факторов - слабозначимые для модели. Т.е. не значительно влияют на целевую переменную. Поэтому их смело можно убирать из модели. Ну и для бизнхеса доносить: так мол и так - на этиф акторы надо обращать внимание, а эти не влияют на уход клиента.<br>\n",
    "УСПЕШНОГО ДАЛЬНЕЙШЕГО ОБУЧЕНИЯ!"
   ]
  },
  {
   "cell_type": "markdown",
   "metadata": {},
   "source": [
    "# Чек-лист готовности проекта"
   ]
  },
  {
   "cell_type": "markdown",
   "metadata": {},
   "source": [
    "Поставьте 'x' в выполненных пунктах. Далее нажмите Shift+Enter."
   ]
  },
  {
   "cell_type": "markdown",
   "metadata": {},
   "source": [
    "- [x]  Jupyter Notebook открыт\n",
    "- [x]  Весь код выполняется без ошибок\n",
    "- [x]  Ячейки с кодом расположены в порядке исполнения\n",
    "- [x]  Выполнен шаг 1: данные подготовлены\n",
    "- [x]  Выполнен шаг 2: задача исследована\n",
    "    - [x]  Исследован баланс классов\n",
    "    - [x]  Изучены модели без учёта дисбаланса\n",
    "    - [x]  Написаны выводы по результатам исследования\n",
    "- [x]  Выполнен шаг 3: учтён дисбаланс\n",
    "    - [x]  Применено несколько способов борьбы с дисбалансом\n",
    "    - [x]  Написаны выводы по результатам исследования\n",
    "- [x]  Выполнен шаг 4: проведено тестирование\n",
    "- [x]  Удалось достичь *F1*-меры не менее 0.59\n",
    "- [x]  Исследована метрика *AUC-ROC*"
   ]
  }
 ],
 "metadata": {
  "kernelspec": {
   "display_name": "Python 3",
   "language": "python",
   "name": "python3"
  },
  "language_info": {
   "codemirror_mode": {
    "name": "ipython",
    "version": 3
   },
   "file_extension": ".py",
   "mimetype": "text/x-python",
   "name": "python",
   "nbconvert_exporter": "python",
   "pygments_lexer": "ipython3",
   "version": "3.8.5"
  },
  "toc": {
   "base_numbering": 1,
   "nav_menu": {},
   "number_sections": true,
   "sideBar": true,
   "skip_h1_title": false,
   "title_cell": "Table of Contents",
   "title_sidebar": "Contents",
   "toc_cell": false,
   "toc_position": {},
   "toc_section_display": true,
   "toc_window_display": false
  }
 },
 "nbformat": 4,
 "nbformat_minor": 2
}
