{
 "cells": [
  {
   "cell_type": "markdown",
   "metadata": {},
   "source": [
    "## Исследование надёжности заёмщиков: анализ банковских данных\n",
    "\n",
    "### Источник данных\n",
    "Кредитный отдел банка. Входные данные от кредитного отдела банка — статистика о платёжеспособности клиентов.\n",
    "\n",
    "### Основные цели проекта\n",
    "На основе данных клиентов исследовать влияет ли семейное положение, количество детей клиента на факт возврата кредита в срок."
   ]
  },
  {
   "cell_type": "markdown",
   "metadata": {},
   "source": [
    "## 1. Изучение общей информации "
   ]
  },
  {
   "cell_type": "code",
   "execution_count": 1,
   "metadata": {},
   "outputs": [
    {
     "name": "stdout",
     "output_type": "stream",
     "text": [
      "<class 'pandas.core.frame.DataFrame'>\n",
      "RangeIndex: 21525 entries, 0 to 21524\n",
      "Data columns (total 12 columns):\n",
      "children            21525 non-null int64\n",
      "days_employed       19351 non-null float64\n",
      "dob_years           21525 non-null int64\n",
      "education           21525 non-null object\n",
      "education_id        21525 non-null int64\n",
      "family_status       21525 non-null object\n",
      "family_status_id    21525 non-null int64\n",
      "gender              21525 non-null object\n",
      "income_type         21525 non-null object\n",
      "debt                21525 non-null int64\n",
      "total_income        19351 non-null float64\n",
      "purpose             21525 non-null object\n",
      "dtypes: float64(2), int64(5), object(5)\n",
      "memory usage: 2.0+ MB\n",
      "None\n"
     ]
    }
   ],
   "source": [
    "import pandas as pd\n",
    "data = pd.read_csv('/datasets/data.csv')\n",
    "print(data.info())"
   ]
  },
  {
   "cell_type": "code",
   "execution_count": 2,
   "metadata": {},
   "outputs": [
    {
     "data": {
      "text/html": [
       "<div>\n",
       "<style scoped>\n",
       "    .dataframe tbody tr th:only-of-type {\n",
       "        vertical-align: middle;\n",
       "    }\n",
       "\n",
       "    .dataframe tbody tr th {\n",
       "        vertical-align: top;\n",
       "    }\n",
       "\n",
       "    .dataframe thead th {\n",
       "        text-align: right;\n",
       "    }\n",
       "</style>\n",
       "<table border=\"1\" class=\"dataframe\">\n",
       "  <thead>\n",
       "    <tr style=\"text-align: right;\">\n",
       "      <th></th>\n",
       "      <th>children</th>\n",
       "      <th>days_employed</th>\n",
       "      <th>dob_years</th>\n",
       "      <th>education</th>\n",
       "      <th>education_id</th>\n",
       "      <th>family_status</th>\n",
       "      <th>family_status_id</th>\n",
       "      <th>gender</th>\n",
       "      <th>income_type</th>\n",
       "      <th>debt</th>\n",
       "      <th>total_income</th>\n",
       "      <th>purpose</th>\n",
       "    </tr>\n",
       "  </thead>\n",
       "  <tbody>\n",
       "    <tr>\n",
       "      <td>0</td>\n",
       "      <td>1</td>\n",
       "      <td>-8437.673028</td>\n",
       "      <td>42</td>\n",
       "      <td>высшее</td>\n",
       "      <td>0</td>\n",
       "      <td>женат / замужем</td>\n",
       "      <td>0</td>\n",
       "      <td>F</td>\n",
       "      <td>сотрудник</td>\n",
       "      <td>0</td>\n",
       "      <td>253875.639453</td>\n",
       "      <td>покупка жилья</td>\n",
       "    </tr>\n",
       "    <tr>\n",
       "      <td>1</td>\n",
       "      <td>1</td>\n",
       "      <td>-4024.803754</td>\n",
       "      <td>36</td>\n",
       "      <td>среднее</td>\n",
       "      <td>1</td>\n",
       "      <td>женат / замужем</td>\n",
       "      <td>0</td>\n",
       "      <td>F</td>\n",
       "      <td>сотрудник</td>\n",
       "      <td>0</td>\n",
       "      <td>112080.014102</td>\n",
       "      <td>приобретение автомобиля</td>\n",
       "    </tr>\n",
       "    <tr>\n",
       "      <td>2</td>\n",
       "      <td>0</td>\n",
       "      <td>-5623.422610</td>\n",
       "      <td>33</td>\n",
       "      <td>Среднее</td>\n",
       "      <td>1</td>\n",
       "      <td>женат / замужем</td>\n",
       "      <td>0</td>\n",
       "      <td>M</td>\n",
       "      <td>сотрудник</td>\n",
       "      <td>0</td>\n",
       "      <td>145885.952297</td>\n",
       "      <td>покупка жилья</td>\n",
       "    </tr>\n",
       "    <tr>\n",
       "      <td>3</td>\n",
       "      <td>3</td>\n",
       "      <td>-4124.747207</td>\n",
       "      <td>32</td>\n",
       "      <td>среднее</td>\n",
       "      <td>1</td>\n",
       "      <td>женат / замужем</td>\n",
       "      <td>0</td>\n",
       "      <td>M</td>\n",
       "      <td>сотрудник</td>\n",
       "      <td>0</td>\n",
       "      <td>267628.550329</td>\n",
       "      <td>дополнительное образование</td>\n",
       "    </tr>\n",
       "    <tr>\n",
       "      <td>4</td>\n",
       "      <td>0</td>\n",
       "      <td>340266.072047</td>\n",
       "      <td>53</td>\n",
       "      <td>среднее</td>\n",
       "      <td>1</td>\n",
       "      <td>гражданский брак</td>\n",
       "      <td>1</td>\n",
       "      <td>F</td>\n",
       "      <td>пенсионер</td>\n",
       "      <td>0</td>\n",
       "      <td>158616.077870</td>\n",
       "      <td>сыграть свадьбу</td>\n",
       "    </tr>\n",
       "    <tr>\n",
       "      <td>...</td>\n",
       "      <td>...</td>\n",
       "      <td>...</td>\n",
       "      <td>...</td>\n",
       "      <td>...</td>\n",
       "      <td>...</td>\n",
       "      <td>...</td>\n",
       "      <td>...</td>\n",
       "      <td>...</td>\n",
       "      <td>...</td>\n",
       "      <td>...</td>\n",
       "      <td>...</td>\n",
       "      <td>...</td>\n",
       "    </tr>\n",
       "    <tr>\n",
       "      <td>21520</td>\n",
       "      <td>1</td>\n",
       "      <td>-4529.316663</td>\n",
       "      <td>43</td>\n",
       "      <td>среднее</td>\n",
       "      <td>1</td>\n",
       "      <td>гражданский брак</td>\n",
       "      <td>1</td>\n",
       "      <td>F</td>\n",
       "      <td>компаньон</td>\n",
       "      <td>0</td>\n",
       "      <td>224791.862382</td>\n",
       "      <td>операции с жильем</td>\n",
       "    </tr>\n",
       "    <tr>\n",
       "      <td>21521</td>\n",
       "      <td>0</td>\n",
       "      <td>343937.404131</td>\n",
       "      <td>67</td>\n",
       "      <td>среднее</td>\n",
       "      <td>1</td>\n",
       "      <td>женат / замужем</td>\n",
       "      <td>0</td>\n",
       "      <td>F</td>\n",
       "      <td>пенсионер</td>\n",
       "      <td>0</td>\n",
       "      <td>155999.806512</td>\n",
       "      <td>сделка с автомобилем</td>\n",
       "    </tr>\n",
       "    <tr>\n",
       "      <td>21522</td>\n",
       "      <td>1</td>\n",
       "      <td>-2113.346888</td>\n",
       "      <td>38</td>\n",
       "      <td>среднее</td>\n",
       "      <td>1</td>\n",
       "      <td>гражданский брак</td>\n",
       "      <td>1</td>\n",
       "      <td>M</td>\n",
       "      <td>сотрудник</td>\n",
       "      <td>1</td>\n",
       "      <td>89672.561153</td>\n",
       "      <td>недвижимость</td>\n",
       "    </tr>\n",
       "    <tr>\n",
       "      <td>21523</td>\n",
       "      <td>3</td>\n",
       "      <td>-3112.481705</td>\n",
       "      <td>38</td>\n",
       "      <td>среднее</td>\n",
       "      <td>1</td>\n",
       "      <td>женат / замужем</td>\n",
       "      <td>0</td>\n",
       "      <td>M</td>\n",
       "      <td>сотрудник</td>\n",
       "      <td>1</td>\n",
       "      <td>244093.050500</td>\n",
       "      <td>на покупку своего автомобиля</td>\n",
       "    </tr>\n",
       "    <tr>\n",
       "      <td>21524</td>\n",
       "      <td>2</td>\n",
       "      <td>-1984.507589</td>\n",
       "      <td>40</td>\n",
       "      <td>среднее</td>\n",
       "      <td>1</td>\n",
       "      <td>женат / замужем</td>\n",
       "      <td>0</td>\n",
       "      <td>F</td>\n",
       "      <td>сотрудник</td>\n",
       "      <td>0</td>\n",
       "      <td>82047.418899</td>\n",
       "      <td>на покупку автомобиля</td>\n",
       "    </tr>\n",
       "  </tbody>\n",
       "</table>\n",
       "<p>21525 rows × 12 columns</p>\n",
       "</div>"
      ],
      "text/plain": [
       "       children  days_employed  dob_years education  education_id  \\\n",
       "0             1   -8437.673028         42    высшее             0   \n",
       "1             1   -4024.803754         36   среднее             1   \n",
       "2             0   -5623.422610         33   Среднее             1   \n",
       "3             3   -4124.747207         32   среднее             1   \n",
       "4             0  340266.072047         53   среднее             1   \n",
       "...         ...            ...        ...       ...           ...   \n",
       "21520         1   -4529.316663         43   среднее             1   \n",
       "21521         0  343937.404131         67   среднее             1   \n",
       "21522         1   -2113.346888         38   среднее             1   \n",
       "21523         3   -3112.481705         38   среднее             1   \n",
       "21524         2   -1984.507589         40   среднее             1   \n",
       "\n",
       "          family_status  family_status_id gender income_type  debt  \\\n",
       "0       женат / замужем                 0      F   сотрудник     0   \n",
       "1       женат / замужем                 0      F   сотрудник     0   \n",
       "2       женат / замужем                 0      M   сотрудник     0   \n",
       "3       женат / замужем                 0      M   сотрудник     0   \n",
       "4      гражданский брак                 1      F   пенсионер     0   \n",
       "...                 ...               ...    ...         ...   ...   \n",
       "21520  гражданский брак                 1      F   компаньон     0   \n",
       "21521   женат / замужем                 0      F   пенсионер     0   \n",
       "21522  гражданский брак                 1      M   сотрудник     1   \n",
       "21523   женат / замужем                 0      M   сотрудник     1   \n",
       "21524   женат / замужем                 0      F   сотрудник     0   \n",
       "\n",
       "        total_income                       purpose  \n",
       "0      253875.639453                 покупка жилья  \n",
       "1      112080.014102       приобретение автомобиля  \n",
       "2      145885.952297                 покупка жилья  \n",
       "3      267628.550329    дополнительное образование  \n",
       "4      158616.077870               сыграть свадьбу  \n",
       "...              ...                           ...  \n",
       "21520  224791.862382             операции с жильем  \n",
       "21521  155999.806512          сделка с автомобилем  \n",
       "21522   89672.561153                  недвижимость  \n",
       "21523  244093.050500  на покупку своего автомобиля  \n",
       "21524   82047.418899         на покупку автомобиля  \n",
       "\n",
       "[21525 rows x 12 columns]"
      ]
     },
     "execution_count": 2,
     "metadata": {},
     "output_type": "execute_result"
    }
   ],
   "source": [
    "data"
   ]
  },
  {
   "cell_type": "code",
   "execution_count": 3,
   "metadata": {},
   "outputs": [
    {
     "name": "stdout",
     "output_type": "stream",
     "text": [
      "children               0\n",
      "days_employed       2174\n",
      "dob_years              0\n",
      "education              0\n",
      "education_id           0\n",
      "family_status          0\n",
      "family_status_id       0\n",
      "gender                 0\n",
      "income_type            0\n",
      "debt                   0\n",
      "total_income        2174\n",
      "purpose                0\n",
      "dtype: int64\n"
     ]
    }
   ],
   "source": [
    "#Определяю количество пропущенных значений в столбцах таблицы.\n",
    "print(data.isnull().sum())"
   ]
  },
  {
   "cell_type": "code",
   "execution_count": 4,
   "metadata": {},
   "outputs": [
    {
     "name": "stdout",
     "output_type": "stream",
     "text": [
      "Столбец children : [ 1  0  3  2 -1  4 20  5]\n",
      "Столбец days_employed : [-8437.67302776 -4024.80375385 -5623.42261023 ... -2113.3468877\n",
      " -3112.4817052  -1984.50758853]\n",
      "Столбец dob_years : [42 36 33 32 53 27 43 50 35 41 40 65 54 56 26 48 24 21 57 67 28 63 62 47\n",
      " 34 68 25 31 30 20 49 37 45 61 64 44 52 46 23 38 39 51  0 59 29 60 55 58\n",
      " 71 22 73 66 69 19 72 70 74 75]\n",
      "Столбец education : ['высшее' 'среднее' 'Среднее' 'СРЕДНЕЕ' 'ВЫСШЕЕ' 'неоконченное высшее'\n",
      " 'начальное' 'Высшее' 'НЕОКОНЧЕННОЕ ВЫСШЕЕ' 'Неоконченное высшее'\n",
      " 'НАЧАЛЬНОЕ' 'Начальное' 'Ученая степень' 'УЧЕНАЯ СТЕПЕНЬ'\n",
      " 'ученая степень']\n",
      "Столбец education_id : [0 1 2 3 4]\n",
      "Столбец family_status : ['женат / замужем' 'гражданский брак' 'вдовец / вдова' 'в разводе'\n",
      " 'Не женат / не замужем']\n",
      "Столбец family_status_id : [0 1 2 3 4]\n",
      "Столбец gender : ['F' 'M' 'XNA']\n",
      "Столбец income_type : ['сотрудник' 'пенсионер' 'компаньон' 'госслужащий' 'безработный'\n",
      " 'предприниматель' 'студент' 'в декрете']\n",
      "Столбец debt : [0 1]\n",
      "Столбец total_income : [253875.6394526  112080.01410244 145885.95229686 ...  89672.56115303\n",
      " 244093.05050043  82047.41889948]\n",
      "Столбец purpose : ['покупка жилья' 'приобретение автомобиля' 'дополнительное образование'\n",
      " 'сыграть свадьбу' 'операции с жильем' 'образование'\n",
      " 'на проведение свадьбы' 'покупка жилья для семьи' 'покупка недвижимости'\n",
      " 'покупка коммерческой недвижимости' 'покупка жилой недвижимости'\n",
      " 'строительство собственной недвижимости' 'недвижимость'\n",
      " 'строительство недвижимости' 'на покупку подержанного автомобиля'\n",
      " 'на покупку своего автомобиля' 'операции с коммерческой недвижимостью'\n",
      " 'строительство жилой недвижимости' 'жилье'\n",
      " 'операции со своей недвижимостью' 'автомобили' 'заняться образованием'\n",
      " 'сделка с подержанным автомобилем' 'получение образования' 'автомобиль'\n",
      " 'свадьба' 'получение дополнительного образования' 'покупка своего жилья'\n",
      " 'операции с недвижимостью' 'получение высшего образования'\n",
      " 'свой автомобиль' 'сделка с автомобилем' 'профильное образование'\n",
      " 'высшее образование' 'покупка жилья для сдачи' 'на покупку автомобиля'\n",
      " 'ремонт жилью' 'заняться высшим образованием']\n"
     ]
    }
   ],
   "source": [
    "#Вывожу списки уникальных значений для каждого столбца, чтобы найти пропуски и аномальные значения.\n",
    "for column in list(data):\n",
    "    print('Столбец', column, ':', data[column].unique())"
   ]
  },
  {
   "cell_type": "markdown",
   "metadata": {},
   "source": [
    "### Вывод"
   ]
  },
  {
   "cell_type": "markdown",
   "metadata": {},
   "source": [
    "При превом изучении видно, что:\n",
    "- столбец children содержит значения-выбросы: -1, 20,\n",
    "- столбец dob_years содержит значение-выброс: 0,\n",
    "- столбец education необходимо привести к одному регистру,\n",
    "- столбец gender содержит неожидаемое значение 'XNA',\n",
    "- столбец purpose содержит значения, которые обозначают одно, но записаны разными словами,\n",
    "- столбец days_employed содержит отрицательные и очень большие значения, в нем есть пропуски, считаю, что этот столбец \"мусорный\", т.к. не вижу связи между его содержимым и другими столбцами, не буду использовать для решения,\n",
    "- столбец total_income необходимо привести к целочисленному типу, в нем есть пропуски,"
   ]
  },
  {
   "cell_type": "markdown",
   "metadata": {},
   "source": [
    "## 2. Предобработка данных"
   ]
  },
  {
   "cell_type": "markdown",
   "metadata": {},
   "source": [
    "### Обработка пропусков"
   ]
  },
  {
   "cell_type": "markdown",
   "metadata": {},
   "source": [
    "#### Обработаю пропуски в столбце total_income.\n"
   ]
  },
  {
   "cell_type": "code",
   "execution_count": 5,
   "metadata": {},
   "outputs": [
    {
     "name": "stdout",
     "output_type": "stream",
     "text": [
      "    children  days_employed  dob_years education  education_id  \\\n",
      "12         0            NaN         65   среднее             1   \n",
      "26         0            NaN         41   среднее             1   \n",
      "29         0            NaN         63   среднее             1   \n",
      "41         0            NaN         50   среднее             1   \n",
      "55         0            NaN         54   среднее             1   \n",
      "65         0            NaN         21   среднее             1   \n",
      "67         0            NaN         52    высшее             0   \n",
      "72         1            NaN         32    высшее             0   \n",
      "82         2            NaN         50    высшее             0   \n",
      "83         0            NaN         52   среднее             1   \n",
      "\n",
      "            family_status  family_status_id gender  income_type  debt  \\\n",
      "12       гражданский брак                 1      M    пенсионер     0   \n",
      "26        женат / замужем                 0      M  госслужащий     0   \n",
      "29  Не женат / не замужем                 4      F    пенсионер     0   \n",
      "41        женат / замужем                 0      F  госслужащий     0   \n",
      "55       гражданский брак                 1      F    пенсионер     1   \n",
      "65  Не женат / не замужем                 4      M    компаньон     0   \n",
      "67        женат / замужем                 0      F    пенсионер     0   \n",
      "72        женат / замужем                 0      M  госслужащий     0   \n",
      "82        женат / замужем                 0      F    сотрудник     0   \n",
      "83        женат / замужем                 0      M    сотрудник     0   \n",
      "\n",
      "    total_income                                purpose  \n",
      "12           NaN                        сыграть свадьбу  \n",
      "26           NaN                            образование  \n",
      "29           NaN       строительство жилой недвижимости  \n",
      "41           NaN       сделка с подержанным автомобилем  \n",
      "55           NaN                        сыграть свадьбу  \n",
      "65           NaN  операции с коммерческой недвижимостью  \n",
      "67           NaN                покупка жилья для семьи  \n",
      "72           NaN  операции с коммерческой недвижимостью  \n",
      "82           NaN                                  жилье  \n",
      "83           NaN                                  жилье  \n",
      "children               0\n",
      "days_employed       2174\n",
      "dob_years              0\n",
      "education              0\n",
      "education_id           0\n",
      "family_status          0\n",
      "family_status_id       0\n",
      "gender                 0\n",
      "income_type            0\n",
      "debt                   0\n",
      "total_income        2174\n",
      "purpose                0\n",
      "dtype: int64\n",
      "<class 'pandas.core.frame.DataFrame'>\n",
      "Int64Index: 2174 entries, 12 to 21510\n",
      "Data columns (total 12 columns):\n",
      "children            2174 non-null int64\n",
      "days_employed       0 non-null float64\n",
      "dob_years           2174 non-null int64\n",
      "education           2174 non-null object\n",
      "education_id        2174 non-null int64\n",
      "family_status       2174 non-null object\n",
      "family_status_id    2174 non-null int64\n",
      "gender              2174 non-null object\n",
      "income_type         2174 non-null object\n",
      "debt                2174 non-null int64\n",
      "total_income        0 non-null float64\n",
      "purpose             2174 non-null object\n",
      "dtypes: float64(2), int64(5), object(5)\n",
      "memory usage: 220.8+ KB\n",
      "None\n"
     ]
    }
   ],
   "source": [
    "#Проверю связь пропусков в двух столбцах days_employed и total_income. \n",
    "#И данные в остальных строках, где пропущены занчения ЗП.\n",
    "\n",
    "data_null = data[data['total_income'].isnull()]\n",
    "print(data_null.head(10))\n",
    "print(data_null.isnull().sum())\n",
    "print(data_null.info())"
   ]
  },
  {
   "cell_type": "markdown",
   "metadata": {},
   "source": [
    "Данные пропущены в обоих столбцах в одних строках. Значит стаж в днях и ЗП для этих людей не указан. \n",
    "Но при этом я не вижу связи с другими столбцами у пропусков. Делаю предположения по пропускам:\n",
    "- люди могут быть клиентами банка, поэтому в анкете отсутствуют вопросы про стаж и ЗП, т.к. они уже известны банку, а таблица собрана только из анкет,\n",
    "- поля могут быть взаимосвязаны при заполнении: если не заполнено одно, то второе не предлагается/блокируется, например,\n",
    "- данные пропущены при вводе в систему/ошибке в системе (также поля могут быть связаны).\n",
    "\n",
    "Принимаю решение сгруппировать пропущенные строки по типу занятости, найти для каждой группы медианное значение, заполнить им пропуск."
   ]
  },
  {
   "cell_type": "code",
   "execution_count": 37,
   "metadata": {},
   "outputs": [],
   "source": [
    "#Попробую привести данные к целочисленному типу до обработки пропусков. \n",
    "#На случай, если в столбце есть нечисловые данные.\n",
    "try:\n",
    "    data['total_income'] = data['total_income'].astype(int)\n",
    "except: \n",
    "    print('Сперва заполните пропуски.')"
   ]
  },
  {
   "cell_type": "code",
   "execution_count": 7,
   "metadata": {},
   "outputs": [
    {
     "name": "stdout",
     "output_type": "stream",
     "text": [
      "income_type\n",
      "безработный        131339.751676\n",
      "в декрете           53829.130729\n",
      "госслужащий        150447.935283\n",
      "компаньон          172357.950966\n",
      "пенсионер          118514.486412\n",
      "предприниматель    499163.144947\n",
      "сотрудник          142594.396847\n",
      "студент             98201.625314\n",
      "Name: total_income, dtype: float64\n"
     ]
    }
   ],
   "source": [
    "#Для замены пропусков в ЗП делаю группировку по типу занятости. \n",
    "#Исключаю пропуски из расчетов и вычисляю медиану каждой группы.\n",
    "print(data.drop(data[data['total_income'].isnull()].index).groupby('income_type')['total_income'].median())"
   ]
  },
  {
   "cell_type": "code",
   "execution_count": 8,
   "metadata": {},
   "outputs": [],
   "source": [
    "#Делаю замену пропусков на медианные значения по группам занятости.\n",
    "data.loc[(data['income_type'] == 'госслужащий') & (data['total_income'].isnull()), 'total_income'] = 150420.150276\n",
    "data.loc[(data['income_type'] == 'компаньон') & (data['total_income'].isnull()), 'total_income'] = 172515.659469\n",
    "data.loc[(data['income_type'] == 'сотрудник') & (data['total_income'].isnull()), 'total_income'] = 142587.588976\n",
    "data.loc[(data['income_type'] == 'пенсионер') & (data['total_income'].isnull()), 'total_income'] = 118480.837408\n",
    "data.loc[(data['income_type'] == 'безработный') & (data['total_income'].isnull()), 'total_income'] = 131339.751676\n",
    "data.loc[(data['income_type'] == 'в декрете') & (data['total_income'].isnull()), 'total_income'] = 53829.130729\n",
    "data.loc[(data['income_type'] == 'предприниматель') & (data['total_income'].isnull()), 'total_income'] = 499163.144947\n",
    "data.loc[(data['income_type'] == 'студент') & (data['total_income'].isnull()), 'total_income'] = 98201.625314"
   ]
  },
  {
   "cell_type": "code",
   "execution_count": 9,
   "metadata": {},
   "outputs": [
    {
     "name": "stdout",
     "output_type": "stream",
     "text": [
      "children               0\n",
      "days_employed       2174\n",
      "dob_years              0\n",
      "education              0\n",
      "education_id           0\n",
      "family_status          0\n",
      "family_status_id       0\n",
      "gender                 0\n",
      "income_type            0\n",
      "debt                   0\n",
      "total_income           0\n",
      "purpose                0\n",
      "dtype: int64\n"
     ]
    }
   ],
   "source": [
    "#Проверяю, что пропусков в столбце total_income больше нет.\n",
    "print(data.isnull().sum())"
   ]
  },
  {
   "cell_type": "markdown",
   "metadata": {},
   "source": [
    "### Обработаю занчения в столбцах dob_years, children, gender, которые при первом исследовании определила аномальными (выбросами)."
   ]
  },
  {
   "cell_type": "markdown",
   "metadata": {},
   "source": [
    "##### Обработка столбца 'children'."
   ]
  },
  {
   "cell_type": "code",
   "execution_count": 10,
   "metadata": {},
   "outputs": [
    {
     "name": "stdout",
     "output_type": "stream",
     "text": [
      " 0     14149\n",
      " 1      4818\n",
      " 2      2055\n",
      " 3       330\n",
      " 20       76\n",
      "-1        47\n",
      " 4        41\n",
      " 5         9\n",
      "Name: children, dtype: int64\n"
     ]
    }
   ],
   "source": [
    "print(data['children'].value_counts())"
   ]
  },
  {
   "cell_type": "markdown",
   "metadata": {},
   "source": [
    "Аномалии в количестве детей: -1, 20. Таких строк мало относительно общего объема данных. Этот критерий значимый для исследования, поэтому я не делаю предположений для объединения с какой-то из категорий. Принимаю решение удалить их.\n",
    "\n",
    "Почему могли появиться такие данные?\n",
    "%20 - кодировка пробела. Возможно, что в этом месте произошла ошибка при вводе данных.\n",
    "-1 похоже на опечатку."
   ]
  },
  {
   "cell_type": "code",
   "execution_count": 11,
   "metadata": {},
   "outputs": [
    {
     "name": "stdout",
     "output_type": "stream",
     "text": [
      "0    14149\n",
      "1     4818\n",
      "2     2055\n",
      "3      330\n",
      "4       41\n",
      "5        9\n",
      "Name: children, dtype: int64\n"
     ]
    }
   ],
   "source": [
    "data.drop(data[(data['children'] == -1)|(data['children'] == 20)].index, inplace = True)\n",
    "print(data['children'].value_counts())"
   ]
  },
  {
   "cell_type": "markdown",
   "metadata": {},
   "source": [
    "#### Обработка столбца 'gender'.\n",
    "\n",
    "Функция .unique помогла найти аномальное значение в столбце gender : ['XNA']. \n",
    "Возможная причина появления такого значение в этом столбце: потерялось при вводе в систему/заполняющий не отметил/случилась опечатка."
   ]
  },
  {
   "cell_type": "code",
   "execution_count": 12,
   "metadata": {},
   "outputs": [
    {
     "name": "stdout",
     "output_type": "stream",
     "text": [
      "F      14154\n",
      "M       7247\n",
      "XNA        1\n",
      "Name: gender, dtype: int64\n",
      "F    14154\n",
      "M     7247\n",
      "Name: gender, dtype: int64\n"
     ]
    }
   ],
   "source": [
    "print(data['gender'].value_counts())\n",
    "#Такое значение только 1. Поэтому удаляю строку.\n",
    "data.drop(data[data['gender'] == 'XNA'].index, inplace=True)\n",
    "print(data['gender'].value_counts())"
   ]
  },
  {
   "cell_type": "markdown",
   "metadata": {},
   "source": [
    "#### Обработка столбца 'dob_years'."
   ]
  },
  {
   "cell_type": "code",
   "execution_count": 13,
   "metadata": {},
   "outputs": [
    {
     "name": "stdout",
     "output_type": "stream",
     "text": [
      "35    614\n",
      "40    603\n",
      "41    603\n",
      "34    597\n",
      "38    595\n",
      "42    592\n",
      "33    577\n",
      "39    572\n",
      "31    556\n",
      "36    553\n",
      "29    543\n",
      "44    543\n",
      "30    536\n",
      "48    536\n",
      "37    531\n",
      "43    510\n",
      "50    509\n",
      "32    506\n",
      "49    505\n",
      "28    501\n",
      "45    494\n",
      "27    490\n",
      "52    483\n",
      "56    482\n",
      "47    480\n",
      "54    476\n",
      "46    469\n",
      "58    461\n",
      "57    457\n",
      "53    457\n",
      "51    446\n",
      "55    441\n",
      "59    441\n",
      "26    406\n",
      "60    376\n",
      "25    356\n",
      "61    353\n",
      "62    351\n",
      "63    268\n",
      "64    263\n",
      "24    262\n",
      "23    252\n",
      "65    194\n",
      "66    183\n",
      "22    183\n",
      "67    167\n",
      "21    110\n",
      "0     100\n",
      "68     99\n",
      "69     83\n",
      "70     65\n",
      "71     58\n",
      "20     51\n",
      "72     33\n",
      "19     14\n",
      "73      8\n",
      "74      6\n",
      "75      1\n",
      "Name: dob_years, dtype: int64\n"
     ]
    }
   ],
   "source": [
    "print(data['dob_years'].value_counts())"
   ]
  },
  {
   "cell_type": "markdown",
   "metadata": {},
   "source": [
    "Аномалии в возрасте: 0.\n",
    "Делаю группировку по типу занятости, т.к. он связан с возрастом (например, пенсионер и студент). Вычислю медиану по каждой группе и заполню 0-ые значения по группам.\n",
    "\n",
    "Почему мог появиться 0? Делаю предположение, что пропустили при вводе данных."
   ]
  },
  {
   "cell_type": "code",
   "execution_count": 14,
   "metadata": {},
   "outputs": [
    {
     "name": "stdout",
     "output_type": "stream",
     "text": [
      "income_type\n",
      "безработный        38.0\n",
      "в декрете          39.0\n",
      "госслужащий        40.0\n",
      "компаньон          39.0\n",
      "пенсионер          60.0\n",
      "предприниматель    42.5\n",
      "сотрудник          39.0\n",
      "студент            22.0\n",
      "Name: dob_years, dtype: float64\n",
      "income_type\n",
      "госслужащий     6\n",
      "компаньон      20\n",
      "пенсионер      20\n",
      "сотрудник      54\n",
      "Name: dob_years, dtype: int64\n"
     ]
    }
   ],
   "source": [
    "#Исключаю 0 из расчетов и вычисляю медиану каждой группы.\n",
    "print(data.drop(data[data['dob_years'] == 0].index).groupby('income_type')['dob_years'].median())\n",
    "\n",
    "#Исследую распределение 0-ых значений по типам занятости.\n",
    "print(data[data['dob_years'] ==0].groupby('income_type')['dob_years'].count())"
   ]
  },
  {
   "cell_type": "code",
   "execution_count": 15,
   "metadata": {},
   "outputs": [
    {
     "name": "stdout",
     "output_type": "stream",
     "text": [
      "Series([], Name: dob_years, dtype: int64)\n"
     ]
    }
   ],
   "source": [
    "#Делаю замену 0 на медианные значения по группам занятости.\n",
    "\n",
    "data.loc[(data['income_type'] == 'госслужащий') & (data['dob_years'] == 0), 'dob_years'] = 40\n",
    "data.loc[(data['income_type'] == 'компаньон') & (data['dob_years'] == 0), 'dob_years'] = 39\n",
    "data.loc[(data['income_type'] == 'сотрудник') & (data['dob_years'] == 0), 'dob_years'] = 39\n",
    "data.loc[(data['income_type'] == 'пенсионер') & (data['dob_years'] == 0), 'dob_years'] = 60\n",
    "\n",
    "#Проверяю, что 0 нет.\n",
    "print(data.loc[data.loc[:, 'dob_years'] ==0].groupby('income_type')['dob_years'].count())"
   ]
  },
  {
   "cell_type": "markdown",
   "metadata": {},
   "source": [
    "### Вывод"
   ]
  },
  {
   "cell_type": "markdown",
   "metadata": {},
   "source": [
    "Пропуски и аномальные значения обработаны. Выводы по каждому типу выше."
   ]
  },
  {
   "cell_type": "markdown",
   "metadata": {},
   "source": [
    "### Замена типа данных"
   ]
  },
  {
   "cell_type": "code",
   "execution_count": 16,
   "metadata": {},
   "outputs": [],
   "source": [
    "data['total_income'] = data['total_income'].astype(int)"
   ]
  },
  {
   "cell_type": "markdown",
   "metadata": {},
   "source": [
    "### Вывод"
   ]
  },
  {
   "cell_type": "markdown",
   "metadata": {},
   "source": [
    "Заменила тип данных в столбце total_income методом .astype(int), т.к. его удобно применить к столбцу таблицы.\n",
    "\n",
    "Замена этим методом \"отрезала хвост у данных\". Не считаю, что нужно было применить метод сложнее с использованием округления, т.к. для диапазонов зарплат (десятки тысяч) это не играет роли."
   ]
  },
  {
   "cell_type": "markdown",
   "metadata": {},
   "source": [
    "### Обработка дубликатов"
   ]
  },
  {
   "cell_type": "markdown",
   "metadata": {},
   "source": [
    "Дубликаты обнаружены в столбце 'education'. Рассмотрим данные."
   ]
  },
  {
   "cell_type": "code",
   "execution_count": 17,
   "metadata": {},
   "outputs": [
    {
     "name": "stdout",
     "output_type": "stream",
     "text": [
      "среднее                13667\n",
      "высшее                  4698\n",
      "СРЕДНЕЕ                  766\n",
      "Среднее                  703\n",
      "неоконченное высшее      664\n",
      "ВЫСШЕЕ                   271\n",
      "Высшее                   268\n",
      "начальное                250\n",
      "Неоконченное высшее       47\n",
      "НЕОКОНЧЕННОЕ ВЫСШЕЕ       29\n",
      "НАЧАЛЬНОЕ                 17\n",
      "Начальное                 15\n",
      "ученая степень             4\n",
      "УЧЕНАЯ СТЕПЕНЬ             1\n",
      "Ученая степень             1\n",
      "Name: education, dtype: int64\n",
      "1    15136\n",
      "0     5237\n",
      "2      740\n",
      "3      282\n",
      "4        6\n",
      "Name: education_id, dtype: int64\n"
     ]
    }
   ],
   "source": [
    "print(data['education'].value_counts())\n",
    "print(data['education_id'].value_counts())"
   ]
  },
  {
   "cell_type": "markdown",
   "metadata": {},
   "source": [
    "Избавлюсь от дубликатов приведением к нижнему регистру всех значений."
   ]
  },
  {
   "cell_type": "code",
   "execution_count": 18,
   "metadata": {},
   "outputs": [
    {
     "name": "stdout",
     "output_type": "stream",
     "text": [
      "среднее                15136\n",
      "высшее                  5237\n",
      "неоконченное высшее      740\n",
      "начальное                282\n",
      "ученая степень             6\n",
      "Name: education, dtype: int64\n"
     ]
    }
   ],
   "source": [
    "data['education'] = data['education'].str.lower()\n",
    "print(data['education'].value_counts())"
   ]
  },
  {
   "cell_type": "code",
   "execution_count": 19,
   "metadata": {},
   "outputs": [
    {
     "name": "stdout",
     "output_type": "stream",
     "text": [
      "<class 'pandas.core.frame.DataFrame'>\n",
      "Int64Index: 21401 entries, 0 to 21524\n",
      "Data columns (total 12 columns):\n",
      "children            21401 non-null int64\n",
      "days_employed       19239 non-null float64\n",
      "dob_years           21401 non-null int64\n",
      "education           21401 non-null object\n",
      "education_id        21401 non-null int64\n",
      "family_status       21401 non-null object\n",
      "family_status_id    21401 non-null int64\n",
      "gender              21401 non-null object\n",
      "income_type         21401 non-null object\n",
      "debt                21401 non-null int64\n",
      "total_income        21401 non-null int64\n",
      "purpose             21401 non-null object\n",
      "dtypes: float64(1), int64(6), object(5)\n",
      "memory usage: 2.7+ MB\n",
      "None\n"
     ]
    }
   ],
   "source": [
    "print(data.info())"
   ]
  },
  {
   "cell_type": "markdown",
   "metadata": {},
   "source": [
    "Выполню проверку на дубли во всей таблице."
   ]
  },
  {
   "cell_type": "code",
   "execution_count": 20,
   "metadata": {},
   "outputs": [],
   "source": [
    "data = data.drop_duplicates().reset_index(drop = True)"
   ]
  },
  {
   "cell_type": "code",
   "execution_count": 21,
   "metadata": {},
   "outputs": [
    {
     "name": "stdout",
     "output_type": "stream",
     "text": [
      "<class 'pandas.core.frame.DataFrame'>\n",
      "RangeIndex: 21330 entries, 0 to 21329\n",
      "Data columns (total 12 columns):\n",
      "children            21330 non-null int64\n",
      "days_employed       19239 non-null float64\n",
      "dob_years           21330 non-null int64\n",
      "education           21330 non-null object\n",
      "education_id        21330 non-null int64\n",
      "family_status       21330 non-null object\n",
      "family_status_id    21330 non-null int64\n",
      "gender              21330 non-null object\n",
      "income_type         21330 non-null object\n",
      "debt                21330 non-null int64\n",
      "total_income        21330 non-null int64\n",
      "purpose             21330 non-null object\n",
      "dtypes: float64(1), int64(6), object(5)\n",
      "memory usage: 2.0+ MB\n",
      "None\n"
     ]
    }
   ],
   "source": [
    "print(data.info())"
   ]
  },
  {
   "cell_type": "markdown",
   "metadata": {},
   "source": [
    "### Вывод"
   ]
  },
  {
   "cell_type": "markdown",
   "metadata": {},
   "source": [
    "Дубликаты в образовании могли появиться из-за различного ввода данных разными клиентами (выбор регистра).\n",
    "\n",
    "Для поиска дублей-строк во всей таблице использовала метод drop_duplicates().reset_index(drop = True), т.к. позволяет решить задачу поиска полных совпадений. При вызове метода drop_duplicates() вместе с повторяющимися строками удаляются их индексы, поэтому используется с методом reset_index(). Аргумент drop со значением True, чтобы не создавать столбец со старыми значениями индексов.\n",
    "Судя по выводу data.info(), таких строк не нашлось."
   ]
  },
  {
   "cell_type": "markdown",
   "metadata": {},
   "source": [
    "### Лемматизация"
   ]
  },
  {
   "cell_type": "code",
   "execution_count": 22,
   "metadata": {},
   "outputs": [
    {
     "name": "stdout",
     "output_type": "stream",
     "text": [
      "свадьба                                   790\n",
      "на проведение свадьбы                     763\n",
      "сыграть свадьбу                           760\n",
      "операции с недвижимостью                  672\n",
      "покупка коммерческой недвижимости         658\n",
      "покупка жилья для сдачи                   649\n",
      "операции с жильем                         647\n",
      "операции с коммерческой недвижимостью     645\n",
      "жилье                                     641\n",
      "покупка жилья                             640\n",
      "покупка жилья для семьи                   637\n",
      "недвижимость                              631\n",
      "строительство собственной недвижимости    628\n",
      "операции со своей недвижимостью           623\n",
      "строительство жилой недвижимости          620\n",
      "покупка своего жилья                      619\n",
      "строительство недвижимости                619\n",
      "покупка недвижимости                      615\n",
      "ремонт жилью                              604\n",
      "покупка жилой недвижимости                602\n",
      "на покупку своего автомобиля              504\n",
      "заняться высшим образованием              496\n",
      "автомобиль                                491\n",
      "сделка с подержанным автомобилем          481\n",
      "автомобили                                476\n",
      "свой автомобиль                           473\n",
      "на покупку подержанного автомобиля        471\n",
      "на покупку автомобиля                     469\n",
      "приобретение автомобиля                   459\n",
      "дополнительное образование                455\n",
      "сделка с автомобилем                      455\n",
      "высшее образование                        446\n",
      "получение дополнительного образования     444\n",
      "образование                               442\n",
      "получение образования                     440\n",
      "профильное образование                    432\n",
      "получение высшего образования             425\n",
      "заняться образованием                     408\n",
      "Name: purpose, dtype: int64\n"
     ]
    }
   ],
   "source": [
    "#Изучаю уникальные значения столбца 'purpose'.\n",
    "from pymystem3 import Mystem\n",
    "m = Mystem()\n",
    "from collections import Counter\n",
    "\n",
    "print(data['purpose'].value_counts())"
   ]
  },
  {
   "cell_type": "code",
   "execution_count": 23,
   "metadata": {},
   "outputs": [
    {
     "name": "stdout",
     "output_type": "stream",
     "text": [
      "purpose\n",
      "автомобили                                0.092437\n",
      "автомобиль                                0.083503\n",
      "высшее образование                        0.089686\n",
      "дополнительное образование                0.083516\n",
      "жилье                                     0.071763\n",
      "заняться высшим образованием              0.086694\n",
      "заняться образованием                     0.095588\n",
      "на покупку автомобиля                     0.093817\n",
      "на покупку подержанного автомобиля        0.074310\n",
      "на покупку своего автомобиля              0.091270\n",
      "на проведение свадьбы                     0.079948\n",
      "недвижимость                              0.066561\n",
      "образование                               0.072398\n",
      "операции с жильем                         0.074189\n",
      "операции с коммерческой недвижимостью     0.080620\n",
      "операции с недвижимостью                  0.081845\n",
      "операции со своей недвижимостью           0.080257\n",
      "покупка жилой недвижимости                0.068106\n",
      "покупка жилья                             0.075000\n",
      "покупка жилья для сдачи                   0.080123\n",
      "покупка жилья для семьи                   0.070644\n",
      "покупка коммерческой недвижимости         0.069909\n",
      "покупка недвижимости                      0.069919\n",
      "покупка своего жилья                      0.054927\n",
      "получение высшего образования             0.108235\n",
      "получение дополнительного образования     0.114865\n",
      "получение образования                     0.081818\n",
      "приобретение автомобиля                   0.091503\n",
      "профильное образование                    0.101852\n",
      "ремонт жилью                              0.057947\n",
      "свадьба                                   0.081013\n",
      "свой автомобиль                           0.099366\n",
      "сделка с автомобилем                      0.109890\n",
      "сделка с подержанным автомобилем          0.106029\n",
      "строительство жилой недвижимости          0.077419\n",
      "строительство недвижимости                0.087237\n",
      "строительство собственной недвижимости    0.065287\n",
      "сыграть свадьбу                           0.076316\n",
      "Name: debt, dtype: float64\n"
     ]
    }
   ],
   "source": [
    "#Посмотрю категоризацию возможности задолженности до лемматизации.\n",
    "print(data.groupby('purpose')['debt'].sum()/data.groupby('purpose')['debt'].count())"
   ]
  },
  {
   "cell_type": "code",
   "execution_count": 24,
   "metadata": {},
   "outputs": [
    {
     "name": "stdout",
     "output_type": "stream",
     "text": [
      "Counter({' ': 96, 'покупка': 10, 'недвижимость': 10, 'автомобиль': 9, 'образование': 9, 'жилье': 7, 'с': 5, 'операция': 4, 'на': 4, 'свой': 4, 'свадьба': 3, 'строительство': 3, 'получение': 3, 'высокий': 3, 'дополнительный': 2, 'для': 2, 'коммерческий': 2, 'жилой': 2, 'подержать': 2, 'заниматься': 2, 'сделка': 2, 'приобретение': 1, 'сыграть': 1, 'проведение': 1, 'семья': 1, 'собственный': 1, 'со': 1, 'профильный': 1, 'сдача': 1, 'ремонт': 1, '\\n': 1})\n"
     ]
    }
   ],
   "source": [
    "#Соединяю уникальные значения в строку и считаю количество лемм\n",
    "#для поиска частотных.\n",
    "all_lemmas = m.lemmatize(' '.join(data['purpose'].unique()))\n",
    "print(Counter(all_lemmas))"
   ]
  },
  {
   "cell_type": "markdown",
   "metadata": {},
   "source": [
    "Считаю, что в этом списке есть 4 больших цели:\n",
    "- недвижимость\n",
    "- свадьба\n",
    "- обарзование\n",
    "- автомобиль\n",
    "\n",
    "Выделяю эти 4 категории, далее разделю все варианты на них."
   ]
  },
  {
   "cell_type": "code",
   "execution_count": 25,
   "metadata": {},
   "outputs": [
    {
     "name": "stdout",
     "output_type": "stream",
     "text": [
      "['недвижимость' 'автомобиль' 'образование' 'свадьба']\n"
     ]
    }
   ],
   "source": [
    "for row in data['purpose'].unique():\n",
    "    lemmas = m.lemmatize(row)\n",
    "    for word in lemmas:\n",
    "        if word == 'свадьба':\n",
    "            data.loc[(data['purpose'] == row), 'purpose'] = 'свадьба'\n",
    "        if word == 'образование':\n",
    "            data.loc[(data['purpose'] == row), 'purpose'] = 'образование'\n",
    "        if ((word == 'недвижимость') | (word == 'жилье')):\n",
    "            data.loc[(data['purpose'] == row), 'purpose'] = 'недвижимость'\n",
    "        if word == 'автомобиль':\n",
    "            data.loc[(data['purpose'] == row), 'purpose'] = 'автомобиль'\n",
    "            \n",
    "print(data['purpose'].unique())  \n",
    "all_lemmas = m.lemmatize(' '.join(data['purpose'].unique()))"
   ]
  },
  {
   "cell_type": "markdown",
   "metadata": {},
   "source": [
    "### Вывод"
   ]
  },
  {
   "cell_type": "markdown",
   "metadata": {},
   "source": [
    "Выделила 4 категории среди целей кредита, преобразовала столбец 'purpose'."
   ]
  },
  {
   "cell_type": "markdown",
   "metadata": {},
   "source": [
    "### Категоризация данных"
   ]
  },
  {
   "cell_type": "markdown",
   "metadata": {},
   "source": [
    "Категоризирую данные для поиска зависимости между наличием детей и возвратом кредита в срок."
   ]
  },
  {
   "cell_type": "code",
   "execution_count": 26,
   "metadata": {},
   "outputs": [
    {
     "name": "stdout",
     "output_type": "stream",
     "text": [
      "children\n",
      "0    0.075444\n",
      "1    0.092346\n",
      "2    0.094542\n",
      "3    0.081818\n",
      "4    0.097561\n",
      "5    0.000000\n",
      "Name: debt, dtype: float64\n"
     ]
    }
   ],
   "source": [
    "#Группирую данные по столбцу 'children'.\n",
    "#Нахожу отношение количества наличия задолженностей \n",
    "#к общему числу в каждой группе\n",
    "print(data.groupby('children')['debt'].sum()/data.groupby('children')['debt'].count())"
   ]
  },
  {
   "cell_type": "markdown",
   "metadata": {},
   "source": [
    "Категоризирую данные для поиска зависимости между семейным положением и возвратом кредита в срок."
   ]
  },
  {
   "cell_type": "code",
   "execution_count": 27,
   "metadata": {},
   "outputs": [
    {
     "name": "stdout",
     "output_type": "stream",
     "text": [
      "family_status\n",
      "Не женат / не замужем    0.097639\n",
      "в разводе                0.070648\n",
      "вдовец / вдова           0.066246\n",
      "гражданский брак         0.093153\n",
      "женат / замужем          0.075606\n",
      "Name: debt, dtype: float64\n"
     ]
    }
   ],
   "source": [
    "#Группирую данные по столбцу 'family_status'.\n",
    "#Нахожу отношение количества наличия задолженностей \n",
    "#к общему числу в каждой группе\n",
    "print(data.groupby('family_status')['debt'].sum()/data.groupby('family_status')['debt'].count())"
   ]
  },
  {
   "cell_type": "markdown",
   "metadata": {},
   "source": [
    "Категоризирую данные для поиска зависимости между целью кредита и возвратом кредита в срок."
   ]
  },
  {
   "cell_type": "code",
   "execution_count": 28,
   "metadata": {},
   "outputs": [
    {
     "name": "stdout",
     "output_type": "stream",
     "text": [
      "purpose\n",
      "автомобиль      0.093480\n",
      "недвижимость    0.072558\n",
      "образование     0.092528\n",
      "свадьба         0.079118\n",
      "Name: debt, dtype: float64\n"
     ]
    }
   ],
   "source": [
    "#Группирую данные по столбцу 'purpose'.\n",
    "#Нахожу отношение количества наличия задолженностей \n",
    "#к общему числу в каждой группе\n",
    "print(data.groupby('purpose')['debt'].sum()/data.groupby('purpose')['debt'].count())"
   ]
  },
  {
   "cell_type": "markdown",
   "metadata": {},
   "source": [
    "Категоризирую данные для поиска зависимости между доходом и возвратом кредита в срок."
   ]
  },
  {
   "cell_type": "code",
   "execution_count": 29,
   "metadata": {},
   "outputs": [
    {
     "name": "stdout",
     "output_type": "stream",
     "text": [
      "income_type\n",
      "безработный        131339\n",
      "в декрете           53829\n",
      "госслужащий        150420\n",
      "компаньон          172515\n",
      "пенсионер          118480\n",
      "предприниматель    499163\n",
      "сотрудник          142587\n",
      "студент             98201\n",
      "Name: total_income, dtype: int64\n",
      "income_type\n",
      "безработный         59956\n",
      "в декрете           53829\n",
      "госслужащий         29200\n",
      "компаньон           28702\n",
      "пенсионер           20667\n",
      "предприниматель    499163\n",
      "сотрудник           21367\n",
      "студент             98201\n",
      "Name: total_income, dtype: int64\n",
      "income_type\n",
      "безработный         202722\n",
      "в декрете            53829\n",
      "госслужащий         910451\n",
      "компаньон          2265604\n",
      "пенсионер           735103\n",
      "предприниматель     499163\n",
      "сотрудник          1726276\n",
      "студент              98201\n",
      "Name: total_income, dtype: int64\n",
      "20667\n",
      "2265604\n",
      "142587.0\n"
     ]
    }
   ],
   "source": [
    "#Для решения это задачи группирую значений по типу занятости.\n",
    "#Нахожу минимальное, максимальное и медианное значения в каждой группе.\n",
    "#Также смотрю минимальное, максимальное и медианное значения без группировки.\n",
    "print(data.groupby('income_type')['total_income'].median())\n",
    "print(data.groupby('income_type')['total_income'].min())\n",
    "print(data.groupby('income_type')['total_income'].max())\n",
    "print(data['total_income'].min())\n",
    "print(data['total_income'].max())\n",
    "print(data['total_income'].median())"
   ]
  },
  {
   "cell_type": "markdown",
   "metadata": {},
   "source": [
    "Выделаю 4 категории обеспеченности клиентов.\n",
    "- до 60 000\n",
    "\n",
    "Минимальная ЗП: 20 000 - 30 000 (справедлива для 3 категорий клиентов), декретный достаток - 53829. Объединяю этих клиентов в класс \"бедные\".\n",
    "\n",
    "- до 120 000\n",
    "\n",
    "Медианные значения двух категорий клиентов попадают в этот раздел. Объединяю этих клиентов в класс \"малообеспеченные\".\n",
    "\n",
    "- до 180 000\n",
    "\n",
    "Медианные значения четырех категорий клиентов попадают в этот раздел.\n",
    "Объединяю этих клиентов в класс \"средеобеспеченные\".\n",
    "\n",
    "- до 500 000\n",
    "\n",
    "Достаток предпринимателей попадает в эту категорию, максимальный достаток 2 категорий клиентов. Объединяю этих клиентов в класс \"состоятельные\".\n",
    "\n",
    "- Все остальные\n",
    "\n",
    "Попадают максимальные значения трех категорий клиентов. Объединяю этих клиентов в класс \"богатые\"."
   ]
  },
  {
   "cell_type": "code",
   "execution_count": 30,
   "metadata": {},
   "outputs": [],
   "source": [
    "#Пишу функцию для категоризации клиентов.\n",
    "#Cоздаю новый столбец с этими данными.\n",
    "def income_level(money):\n",
    "    if money <= 60000:\n",
    "        return 'бедный'\n",
    "    if money <= 120000:\n",
    "        return 'малообеспеченный'\n",
    "    if money <= 180000:\n",
    "        return 'средеобеспеченный'\n",
    "    if money <= 500000:\n",
    "        return 'состоятельный'\n",
    "    return 'богатый'\n",
    "\n",
    "data['income_level'] = data['total_income'].apply(income_level)"
   ]
  },
  {
   "cell_type": "code",
   "execution_count": 31,
   "metadata": {},
   "outputs": [
    {
     "name": "stdout",
     "output_type": "stream",
     "text": [
      "income_level\n",
      "бедный               0.061174\n",
      "богатый              0.063063\n",
      "малообеспеченный     0.083815\n",
      "состоятельный        0.074927\n",
      "средеобеспеченный    0.086625\n",
      "Name: debt, dtype: float64\n"
     ]
    }
   ],
   "source": [
    "print(data.groupby('income_level')['debt'].sum()/data.groupby('income_level')['debt'].count())"
   ]
  },
  {
   "cell_type": "markdown",
   "metadata": {},
   "source": [
    "### Вывод"
   ]
  },
  {
   "cell_type": "markdown",
   "metadata": {},
   "source": [
    "Категоризировала данные."
   ]
  },
  {
   "cell_type": "markdown",
   "metadata": {},
   "source": [
    "## 3. Анализ проведенного исследования"
   ]
  },
  {
   "cell_type": "markdown",
   "metadata": {},
   "source": [
    "### 1. Есть ли зависимость между наличием детей и возвратом кредита в срок?"
   ]
  },
  {
   "cell_type": "code",
   "execution_count": 32,
   "metadata": {},
   "outputs": [
    {
     "name": "stdout",
     "output_type": "stream",
     "text": [
      "children\n",
      "0    0.075444\n",
      "1    0.092346\n",
      "2    0.094542\n",
      "3    0.081818\n",
      "4    0.097561\n",
      "5    0.000000\n",
      "Name: debt, dtype: float64\n"
     ]
    }
   ],
   "source": [
    "#Повторю строку из предыдущего раздела для удобства ответа.\n",
    "print(data.groupby('children')['debt'].sum()/data.groupby('children')['debt'].count())"
   ]
  },
  {
   "cell_type": "markdown",
   "metadata": {},
   "source": [
    "### Вывод\n",
    "Считаю, что есть связь между количестволм детей и возможностью задолженности. Чем больше детей, тем больше риск задолженности.\n",
    "#####  0 детей - 7,7%\n",
    "#####  1 ребенок - 9,3%\n",
    "#####  2 детей - 9,5%\n",
    "#####  3 детей - 8,2%\n",
    "#####  4 детей - 10%\n",
    "\n",
    "Выбиваются клиенты с 3 детьми. Считаю, что это не противоречит полностью выводу выше. Вообще: чем больше детей, тем меньше таких клиентов в выборке. \n",
    "Клиентов с количеством детей 5 во всей выборке 9. Считаю, что статистики по ним недостаточно для интерпретации итогового результата. Не учитываю их результат."
   ]
  },
  {
   "cell_type": "markdown",
   "metadata": {},
   "source": [
    "### 2. Есть ли зависимость между семейным положением и возвратом кредита в срок?"
   ]
  },
  {
   "cell_type": "code",
   "execution_count": 33,
   "metadata": {},
   "outputs": [
    {
     "name": "stdout",
     "output_type": "stream",
     "text": [
      "family_status\n",
      "Не женат / не замужем    0.097639\n",
      "в разводе                0.070648\n",
      "вдовец / вдова           0.066246\n",
      "гражданский брак         0.093153\n",
      "женат / замужем          0.075606\n",
      "Name: debt, dtype: float64\n"
     ]
    }
   ],
   "source": [
    "#Повторю строку из предыдущего раздела для удобства ответа.\n",
    "print(data.groupby('family_status')['debt'].sum()/data.groupby('family_status')['debt'].count())"
   ]
  },
  {
   "cell_type": "markdown",
   "metadata": {},
   "source": [
    "### Вывод\n",
    "Считаю, что есть связь между семейным положением и возможностью задолженности, но слабая.\n",
    "\n",
    "##### Не женат / не замужем - 9,9%\n",
    "Самый высокий уровень риска задолженности. Можно сказать, что это люди, которые не берут на себя \"обязательства\", связанные с семьей. По данным они наименее надежны в плане возврата кредита\n",
    "\n",
    "##### Гражданский брак - 9,4%\n",
    "Официальные \"обязательства\" эта категория клиентов также не берет, но уже заявляет о другом статусе. Их % похож на предыдущих, но уже ниже.\n",
    "\n",
    "##### Женат/Замужем - 7,7%\n",
    "Эти клиенты берут \"обязательства\", их уровень риска заметно ниже.\n",
    "\n",
    "##### В разводе - 7%\n",
    "Эти клиенты имеют опыт \"обязательств\", их уровень риска ниже, чем у первых двух категорий.\n",
    "\n",
    "##### Вдовец/вдова - 6,7%\n",
    "Эти клиенты имеют опыт \"обязательств\", их уровень риска ниже, чем у первых двух категорий.\n",
    "\n",
    "Можно предположить, что те клиенты, которые заявляют в своем статусе о наличии в настоящем или прошлом официальных отношений, имеют меньший риск задолженности."
   ]
  },
  {
   "cell_type": "markdown",
   "metadata": {},
   "source": [
    "### 3. Есть ли зависимость между уровнем дохода и возвратом кредита в срок?"
   ]
  },
  {
   "cell_type": "code",
   "execution_count": 34,
   "metadata": {},
   "outputs": [
    {
     "name": "stdout",
     "output_type": "stream",
     "text": [
      "income_level\n",
      "бедный               0.061174\n",
      "богатый              0.063063\n",
      "малообеспеченный     0.083815\n",
      "состоятельный        0.074927\n",
      "средеобеспеченный    0.086625\n",
      "Name: debt, dtype: float64\n"
     ]
    }
   ],
   "source": [
    "#Повторю строку из предыдущего раздела для удобства ответа.\n",
    "print(data.groupby('income_level')['debt'].sum()/data.groupby('income_level')['debt'].count())"
   ]
  },
  {
   "cell_type": "markdown",
   "metadata": {},
   "source": [
    "### Вывод\n",
    "\n",
    "Считаю, что лучший результат по вероятности долга у категории \"бедные\" потому, что таким клиентам реже дают кредиты. Поэтому их история не содержит достаточной информации.\n",
    "\n",
    "Из оставшихся категорий лучше всех возвращают долги клиенты из категории \"богатые\". Их процент задолженности 6,3%. Высокий достаток гарантирует меньший риск нехватки средств.\n",
    "\n",
    "Следующее место у категории \"состоятельных\". Что подтверждает тенденцию: чем выше заработок, тем меньше риск задолженности.\n",
    "\n",
    "Далее на похожих позициях \"малообеспеченные\" 8,4% и \"средеобеспеченные\" 8,7%.\n",
    "\n",
    "Можно сделать вывод о том, что чем богаче клиент, тем ниже риск задолженности, если это не касается клиентов с минимальным доходом."
   ]
  },
  {
   "cell_type": "markdown",
   "metadata": {},
   "source": [
    "### 4. Как разные цели кредита влияют на его возврат в срок?"
   ]
  },
  {
   "cell_type": "code",
   "execution_count": 35,
   "metadata": {},
   "outputs": [
    {
     "name": "stdout",
     "output_type": "stream",
     "text": [
      "purpose\n",
      "автомобиль      0.093480\n",
      "недвижимость    0.072558\n",
      "образование     0.092528\n",
      "свадьба         0.079118\n",
      "Name: debt, dtype: float64\n"
     ]
    }
   ],
   "source": [
    "#Повторю строку из предыдущего раздела для удобства ответа.\n",
    "print(data.groupby('purpose')['debt'].sum()/data.groupby('purpose')['debt'].count())"
   ]
  },
  {
   "cell_type": "markdown",
   "metadata": {},
   "source": [
    "### Вывод\n",
    "\n",
    "Самый большой риск у категорий автомобиль и образование. Связываю это с тем, что:\n",
    "- Люди, берущие кредиты на образование, только получают профессию, либо меняют, что негативно сказывается на их заработной плате. А значит риск задолженности есть.\n",
    "\n",
    "- Люди, берущие кредит на автомобиль, также тратят деньги на амортизацию/бензин/страховки/чп. Есть очень много дополнительных расходов, которые могут негативно сказаться на вероятности задолженности.\n",
    "\n",
    "Далее идет категория \"свадьба\". Процент риска ниже, чем у первых двух категорий. Предполагаю, что такие кредиты меньше в среднем, чем у трех других категорий.\n",
    "\n",
    "Наименее рискованная категория \"недвижимость\". Считаю, что такие покупки наиболее обдуманные, длительные, а значит клиент лучше оценил свои силы перед такой покупкой, имеет стабильный доход. \n",
    "Возможно, что данную категорию можно подробить сильнее, но я считаю, что общие выводы будут аналогичными. На предварительной категоризации до лемматизации видно, что, например, цель \"на ремонт\" имеет еще более низкий риск задолженности."
   ]
  },
  {
   "cell_type": "markdown",
   "metadata": {},
   "source": [
    "## Общий вывод"
   ]
  },
  {
   "cell_type": "markdown",
   "metadata": {},
   "source": [
    "После проведенного исследования считаю, что наличие или отсутствие детей влияет сильнее на факт погашения кредита в срок, чем количество. Если у клиента нет детей, то он вероятнее вернет кредит в срок. \n",
    "Количество детей имеет также зависимость, отражденную выше. Чем больше детей, тем выше риск задолженности. Из этой зависимости выбиваются люди, имеющие 3 детей. Но тут сказывается фактор: чем больше детей, тем меньше таких клиентов, что ухудшает анализ.\n",
    "\n",
    "В отношении семейного положения могу сделать вывод, что те клиенты, которые заявляют в своем статусе о наличии в настоящем или прошлом официальных отношений, имеют меньший риск задолженности, чем те, кто такой статус не имеют/не имели. Люди, готовые брать на себя обязательстваа, лучше отдают кредиты."
   ]
  }
 ],
 "metadata": {
  "kernelspec": {
   "display_name": "Python 3",
   "language": "python",
   "name": "python3"
  },
  "language_info": {
   "codemirror_mode": {
    "name": "ipython",
    "version": 3
   },
   "file_extension": ".py",
   "mimetype": "text/x-python",
   "name": "python",
   "nbconvert_exporter": "python",
   "pygments_lexer": "ipython3",
   "version": "3.8.5"
  },
  "toc": {
   "base_numbering": 1,
   "nav_menu": {},
   "number_sections": true,
   "sideBar": true,
   "skip_h1_title": true,
   "title_cell": "Table of Contents",
   "title_sidebar": "Contents",
   "toc_cell": false,
   "toc_position": {},
   "toc_section_display": true,
   "toc_window_display": false
  }
 },
 "nbformat": 4,
 "nbformat_minor": 2
}
