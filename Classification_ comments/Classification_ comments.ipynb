{
 "cells": [
  {
   "cell_type": "markdown",
   "metadata": {},
   "source": [
    "# Проект \"Классификация комментариев\"\n",
    "\n",
    "### Источник данных\n",
    "Набор данных с разметкой о токсичности правок.\n",
    "\n",
    "### Основные цели проекта \n",
    "Для запуска нового сервиса интернет-магазину нужен инструмент, который будет искать токсичные комментарии и отправлять их на модерацию. Пользователи могут редактировать и дополнять описания товаров, как в вики-сообществах. То есть клиенты предлагают свои правки и комментируют изменения других. \n",
    "\n",
    "- Необходимо обучить модель классифицировать комментарии на позитивные и негативные. \n",
    "- Построить модель со значением метрики качества *F1* не меньше 0.75. "
   ]
  },
  {
   "cell_type": "markdown",
   "metadata": {},
   "source": [
    "## Подготовка"
   ]
  },
  {
   "cell_type": "code",
   "execution_count": 1,
   "metadata": {},
   "outputs": [],
   "source": [
    "#Импорт необходимых библиотек.\n",
    "import pandas as pd\n",
    "import numpy as np\n",
    "import time\n",
    "import warnings\n",
    "from pymystem3 import Mystem\n",
    "import re\n",
    "import nltk\n",
    "import torch\n",
    "import transformers\n",
    "import lightgbm as lgb\n",
    "from sklearn.exceptions import DataConversionWarning\n",
    "from sklearn.exceptions import ConvergenceWarning\n",
    "from tqdm import notebook\n",
    "from sklearn.linear_model import LogisticRegression\n",
    "from nltk.corpus import stopwords as nltk_stopwords\n",
    "from sklearn.model_selection import cross_val_score\n",
    "from sklearn.model_selection import train_test_split\n",
    "from sklearn.metrics import f1_score\n",
    "from lightgbm import LGBMClassifier\n",
    "from catboost import CatBoostClassifier\n",
    "from sklearn.feature_extraction.text import TfidfVectorizer\n",
    "from sklearn.feature_extraction.text import CountVectorizer \n",
    "from nltk.stem.wordnet import WordNetLemmatizer\n",
    "from nltk.corpus import wordnet\n",
    "import matplotlib as mpl\n",
    "import matplotlib.pyplot as plt"
   ]
  },
  {
   "cell_type": "code",
   "execution_count": 2,
   "metadata": {},
   "outputs": [
    {
     "data": {
      "text/html": [
       "<div>\n",
       "<style scoped>\n",
       "    .dataframe tbody tr th:only-of-type {\n",
       "        vertical-align: middle;\n",
       "    }\n",
       "\n",
       "    .dataframe tbody tr th {\n",
       "        vertical-align: top;\n",
       "    }\n",
       "\n",
       "    .dataframe thead th {\n",
       "        text-align: right;\n",
       "    }\n",
       "</style>\n",
       "<table border=\"1\" class=\"dataframe\">\n",
       "  <thead>\n",
       "    <tr style=\"text-align: right;\">\n",
       "      <th></th>\n",
       "      <th>text</th>\n",
       "      <th>toxic</th>\n",
       "    </tr>\n",
       "  </thead>\n",
       "  <tbody>\n",
       "    <tr>\n",
       "      <td>0</td>\n",
       "      <td>Explanation\\nWhy the edits made under my usern...</td>\n",
       "      <td>0</td>\n",
       "    </tr>\n",
       "    <tr>\n",
       "      <td>1</td>\n",
       "      <td>D'aww! He matches this background colour I'm s...</td>\n",
       "      <td>0</td>\n",
       "    </tr>\n",
       "    <tr>\n",
       "      <td>2</td>\n",
       "      <td>Hey man, I'm really not trying to edit war. It...</td>\n",
       "      <td>0</td>\n",
       "    </tr>\n",
       "    <tr>\n",
       "      <td>3</td>\n",
       "      <td>\"\\nMore\\nI can't make any real suggestions on ...</td>\n",
       "      <td>0</td>\n",
       "    </tr>\n",
       "    <tr>\n",
       "      <td>4</td>\n",
       "      <td>You, sir, are my hero. Any chance you remember...</td>\n",
       "      <td>0</td>\n",
       "    </tr>\n",
       "    <tr>\n",
       "      <td>...</td>\n",
       "      <td>...</td>\n",
       "      <td>...</td>\n",
       "    </tr>\n",
       "    <tr>\n",
       "      <td>159566</td>\n",
       "      <td>\":::::And for the second time of asking, when ...</td>\n",
       "      <td>0</td>\n",
       "    </tr>\n",
       "    <tr>\n",
       "      <td>159567</td>\n",
       "      <td>You should be ashamed of yourself \\n\\nThat is ...</td>\n",
       "      <td>0</td>\n",
       "    </tr>\n",
       "    <tr>\n",
       "      <td>159568</td>\n",
       "      <td>Spitzer \\n\\nUmm, theres no actual article for ...</td>\n",
       "      <td>0</td>\n",
       "    </tr>\n",
       "    <tr>\n",
       "      <td>159569</td>\n",
       "      <td>And it looks like it was actually you who put ...</td>\n",
       "      <td>0</td>\n",
       "    </tr>\n",
       "    <tr>\n",
       "      <td>159570</td>\n",
       "      <td>\"\\nAnd ... I really don't think you understand...</td>\n",
       "      <td>0</td>\n",
       "    </tr>\n",
       "  </tbody>\n",
       "</table>\n",
       "<p>159571 rows × 2 columns</p>\n",
       "</div>"
      ],
      "text/plain": [
       "                                                     text  toxic\n",
       "0       Explanation\\nWhy the edits made under my usern...      0\n",
       "1       D'aww! He matches this background colour I'm s...      0\n",
       "2       Hey man, I'm really not trying to edit war. It...      0\n",
       "3       \"\\nMore\\nI can't make any real suggestions on ...      0\n",
       "4       You, sir, are my hero. Any chance you remember...      0\n",
       "...                                                   ...    ...\n",
       "159566  \":::::And for the second time of asking, when ...      0\n",
       "159567  You should be ashamed of yourself \\n\\nThat is ...      0\n",
       "159568  Spitzer \\n\\nUmm, theres no actual article for ...      0\n",
       "159569  And it looks like it was actually you who put ...      0\n",
       "159570  \"\\nAnd ... I really don't think you understand...      0\n",
       "\n",
       "[159571 rows x 2 columns]"
      ]
     },
     "execution_count": 2,
     "metadata": {},
     "output_type": "execute_result"
    }
   ],
   "source": [
    "#Загружаем данные и смотрим на них.\n",
    "#data = pd.read_csv('toxic_comments.csv')\n",
    "\n",
    "try:\n",
    "    data = pd.read_csv('toxic_comments.csv')\n",
    "except:\n",
    "    data = pd.read_csv('/datasets/toxic_comments.csv')\n",
    "data"
   ]
  },
  {
   "cell_type": "code",
   "execution_count": 3,
   "metadata": {},
   "outputs": [
    {
     "name": "stdout",
     "output_type": "stream",
     "text": [
      "<class 'pandas.core.frame.DataFrame'>\n",
      "RangeIndex: 159571 entries, 0 to 159570\n",
      "Data columns (total 2 columns):\n",
      "text     159571 non-null object\n",
      "toxic    159571 non-null int64\n",
      "dtypes: int64(1), object(1)\n",
      "memory usage: 2.4+ MB\n",
      "None\n",
      "text     0\n",
      "toxic    0\n",
      "dtype: int64\n"
     ]
    }
   ],
   "source": [
    "#Смотрим общую информацию.\n",
    "print(data.info())\n",
    "\n",
    "#Определяю количество пропущенных значений в столбцах data.\n",
    "print(data.isnull().sum())"
   ]
  },
  {
   "cell_type": "code",
   "execution_count": 4,
   "metadata": {},
   "outputs": [
    {
     "name": "stdout",
     "output_type": "stream",
     "text": [
      "Столбец toxic: [0 1]\n"
     ]
    }
   ],
   "source": [
    "#Выводим список уникальных значений для столбца toxic.\n",
    "print('Столбец toxic:', data['toxic'].unique())"
   ]
  },
  {
   "cell_type": "markdown",
   "metadata": {},
   "source": [
    "**Вывод**\n",
    "\n",
    "- Нет пропусков в данных.\n",
    "- Нет выбросов в столбце toxic."
   ]
  },
  {
   "cell_type": "code",
   "execution_count": 5,
   "metadata": {},
   "outputs": [
    {
     "name": "stderr",
     "output_type": "stream",
     "text": [
      "[nltk_data] Downloading package wordnet to /home/jovyan/nltk_data...\n",
      "[nltk_data]   Package wordnet is already up-to-date!\n"
     ]
    }
   ],
   "source": [
    "#Добавим столбец, с очищенными от лишних пробелов и символов строками, оставив в них только слова и пробелы.\n",
    "lemm_text = []\n",
    "#m = Mystem()\n",
    "nltk.download('wordnet')\n",
    "m = WordNetLemmatizer()\n",
    "\n",
    "#Переведём тексты в стандартный для Python формат: кодировку Unicode (U) и пройдем по ним циклом:\n",
    "#1.почистим текст, оставив в тексте только буквенные символы и пробелы,\n",
    "#2.лемматизируем данные.\n",
    "for text in data['text'].values.astype('U'):\n",
    "    clean_text = re.sub(r'[^a-zA-Z]',' ',text)\n",
    "    lemm_list = m.lemmatize(\" \".join(clean_text.split()))\n",
    "    lemm_text.append(\"\".join(lemm_list))\n",
    "\n",
    "#Добавим столбец в исходный датасет.    \n",
    "data['lemm_text'] = lemm_text"
   ]
  },
  {
   "cell_type": "code",
   "execution_count": 6,
   "metadata": {},
   "outputs": [
    {
     "data": {
      "text/plain": [
       "0         Explanation Why the edits made under my userna...\n",
       "1         D aww He matches this background colour I m se...\n",
       "2         Hey man I m really not trying to edit war It s...\n",
       "3         More I can t make any real suggestions on impr...\n",
       "4         You sir are my hero Any chance you remember wh...\n",
       "                                ...                        \n",
       "159566    And for the second time of asking when your vi...\n",
       "159567    You should be ashamed of yourself That is a ho...\n",
       "159568    Spitzer Umm theres no actual article for prost...\n",
       "159569    And it looks like it was actually you who put ...\n",
       "159570    And I really don t think you understand I came...\n",
       "Name: lemm_text, Length: 159571, dtype: object"
      ]
     },
     "execution_count": 6,
     "metadata": {},
     "output_type": "execute_result"
    }
   ],
   "source": [
    "data['lemm_text']"
   ]
  },
  {
   "cell_type": "code",
   "execution_count": 7,
   "metadata": {},
   "outputs": [
    {
     "name": "stderr",
     "output_type": "stream",
     "text": [
      "[nltk_data] Downloading package stopwords to /home/jovyan/nltk_data...\n",
      "[nltk_data]   Package stopwords is already up-to-date!\n"
     ]
    }
   ],
   "source": [
    "#Создаем мешки слов с учётом стоп-слов.\n",
    "nltk.download('stopwords')\n",
    "stopwords = set(nltk_stopwords.words('english'))\n",
    "count_tf_idf = TfidfVectorizer(stop_words=stopwords) \n",
    "\n",
    "#tf_idf = count_tf_idf.fit_transform(data['lemm_text'].values) \n",
    "#Сделаем настройки после разделения выборки."
   ]
  },
  {
   "cell_type": "markdown",
   "metadata": {},
   "source": [
    "## Обучение"
   ]
  },
  {
   "cell_type": "code",
   "execution_count": 8,
   "metadata": {},
   "outputs": [],
   "source": [
    "#Разобъем данные на 2 выборки: обучающую и тестовую в соотношении: 90/10.\n",
    "data_train, data_test = train_test_split(data, test_size=0.2, random_state=12345)\n",
    "#tf_idf_train, tf_idf_test = train_test_split(tf_idf, test_size=0.2, random_state=12345)"
   ]
  },
  {
   "cell_type": "code",
   "execution_count": 9,
   "metadata": {},
   "outputs": [],
   "source": [
    "tf_idf_train = count_tf_idf.fit_transform(data_train['lemm_text'].values) \n",
    "tf_idf_test = count_tf_idf.transform(data_test['lemm_text'].values)"
   ]
  },
  {
   "cell_type": "code",
   "execution_count": 10,
   "metadata": {},
   "outputs": [],
   "source": [
    "#Для анализа зафиксируем признаки в переменных features_, а целевой признак в target_ для каждой из 2-ух выборок.\n",
    "features_train = tf_idf_train\n",
    "target_train = data_train['toxic'].values\n",
    "\n",
    "#Тестовая выборка.\n",
    "features_test = tf_idf_test\n",
    "target_test = data_test['toxic'].values"
   ]
  },
  {
   "cell_type": "markdown",
   "metadata": {},
   "source": [
    "<font color=purple>Изучим дисбаланс классов.</font>"
   ]
  },
  {
   "cell_type": "code",
   "execution_count": 11,
   "metadata": {},
   "outputs": [
    {
     "data": {
      "text/plain": [
       "0    0.898321\n",
       "1    0.101679\n",
       "Name: toxic, dtype: float64"
      ]
     },
     "execution_count": 11,
     "metadata": {},
     "output_type": "execute_result"
    }
   ],
   "source": [
    "#Посмотрим на доли классов.\n",
    "data['toxic'].value_counts(normalize = True)"
   ]
  },
  {
   "cell_type": "code",
   "execution_count": 12,
   "metadata": {},
   "outputs": [
    {
     "data": {
      "image/png": "[encoded data removed]",
      "text/plain": [
       "<Figure size 576x576 with 1 Axes>"
      ]
     },
     "metadata": {},
     "output_type": "display_data"
    }
   ],
   "source": [
    "#Визаулизируем доли.\n",
    "data_pie = data.groupby('toxic').size()\n",
    "\n",
    "data_pie.plot(kind='pie', subplots=True, figsize=(8, 8))\n",
    "plt.title(\"Круговая диаграмма классов\")\n",
    "plt.ylabel(\"\")\n",
    "plt.show()"
   ]
  },
  {
   "cell_type": "markdown",
   "metadata": {},
   "source": [
    "**Вывод**\n",
    "По проведенному исследованию видно, что в данных есть дисбаланс классов:\n",
    "\n",
    "- 0: 0.898321\n",
    "- 1: 0.101679"
   ]
  },
  {
   "cell_type": "markdown",
   "metadata": {},
   "source": [
    "<font color=purple>Обучим модель LogisticRegression.</font>"
   ]
  },
  {
   "cell_type": "code",
   "execution_count": 13,
   "metadata": {},
   "outputs": [
    {
     "name": "stderr",
     "output_type": "stream",
     "text": [
      "/opt/conda/lib/python3.7/site-packages/sklearn/linear_model/logistic.py:432: FutureWarning: Default solver will be changed to 'lbfgs' in 0.22. Specify a solver to silence this warning.\n",
      "  FutureWarning)\n"
     ]
    },
    {
     "name": "stdout",
     "output_type": "stream",
     "text": [
      "Затраченное время (сек) = 11.555831670761108\n"
     ]
    }
   ],
   "source": [
    "#Обучим модель LogisticRegression.\n",
    "#Не будем бороться с дисбалансом классов сейчас.\n",
    "start_time = time.time()\n",
    "warnings.filterwarnings(\"ignore\", category=DataConversionWarning)\n",
    "warnings.filterwarnings(\"ignore\", category=ConvergenceWarning)\n",
    "\n",
    "model_lr = LogisticRegression(penalty='l2', C=3.0, random_state=12345)\n",
    "model_lr.fit(features_train, target_train)\n",
    "cut_time = time.time()\n",
    "print(\"Затраченное время (сек) =\", cut_time - start_time)"
   ]
  },
  {
   "cell_type": "code",
   "execution_count": 14,
   "metadata": {},
   "outputs": [
    {
     "name": "stdout",
     "output_type": "stream",
     "text": [
      "Затраченное время (сек) = 0.03471517562866211\n",
      "F1-мера: 0.7617347849366412\n"
     ]
    }
   ],
   "source": [
    "#Расчитаем F1 для модели.\n",
    "start_time = time.time()\n",
    "predicted_lr = model_lr.predict(features_test)\n",
    "f1_lr = f1_score(target_test, predicted_lr)\n",
    "cut_time = time.time()\n",
    "print(\"Затраченное время (сек) =\", cut_time - start_time)\n",
    "print('F1-мера:', f1_lr)"
   ]
  },
  {
   "cell_type": "markdown",
   "metadata": {},
   "source": [
    "**Обучим логистическую регрессию, сделав веса классов сбалансированными. Придадим объектам редкого класса больший вес.**"
   ]
  },
  {
   "cell_type": "code",
   "execution_count": 15,
   "metadata": {},
   "outputs": [
    {
     "name": "stdout",
     "output_type": "stream",
     "text": [
      "Затраченное время (сек) = 17.050134658813477\n"
     ]
    }
   ],
   "source": [
    "#Обучим модель LogisticRegression.\n",
    "#Обучим логистическую регрессию, сделав веса классов сбалансированными. \n",
    "#Придадим объектам редкого класса больший вес.\n",
    "start_time = time.time()\n",
    "warnings.filterwarnings(\"ignore\", category=DataConversionWarning)\n",
    "warnings.filterwarnings(\"ignore\", category=ConvergenceWarning)\n",
    "\n",
    "model_lr = LogisticRegression(penalty='l2', C=3.0, random_state=12345, solver='liblinear', class_weight='balanced')\n",
    "model_lr.fit(features_train, target_train)\n",
    "cut_time = time.time()\n",
    "print(\"Затраченное время (сек) =\", cut_time - start_time)"
   ]
  },
  {
   "cell_type": "code",
   "execution_count": 16,
   "metadata": {},
   "outputs": [
    {
     "name": "stdout",
     "output_type": "stream",
     "text": [
      "Затраченное время (сек) = 0.023708820343017578\n",
      "F1-мера: 0.7649937089333148\n"
     ]
    }
   ],
   "source": [
    "#Расчитаем F1 для модели.\n",
    "start_time = time.time()\n",
    "predicted_lr = model_lr.predict(features_test)\n",
    "f1_lr = f1_score(target_test, predicted_lr)\n",
    "cut_time = time.time()\n",
    "print(\"Затраченное время (сек) =\", cut_time - start_time)\n",
    "print('F1-мера:', f1_lr)"
   ]
  },
  {
   "cell_type": "markdown",
   "metadata": {},
   "source": [
    "**Вывод**\n",
    "\n",
    "- Точность увеличилась: F1-мера выросла с 0.76 до 0.77.\n",
    "- Скорость обучения выросла в 2 раза.\n",
    "- Скорость расчета прогноза выросла в 1,2 раза."
   ]
  },
  {
   "cell_type": "markdown",
   "metadata": {},
   "source": [
    "<font color=purple>Обучим модель градиентного бустинга LightGBM.</font>"
   ]
  },
  {
   "cell_type": "code",
   "execution_count": 17,
   "metadata": {},
   "outputs": [
    {
     "name": "stdout",
     "output_type": "stream",
     "text": [
      "Затраченное время (сек) = 1245.8847920894623\n"
     ]
    }
   ],
   "source": [
    "#Обучим модель градиентного бустинга LightGBM.\n",
    "#Не будем бороться с дисбалансом классов сейчас.\n",
    "start_time = time.time()\n",
    "warnings.filterwarnings(\"ignore\", category=DataConversionWarning)\n",
    "\n",
    "model_lgb = LGBMClassifier(learning_rate=0.1, max_depth=6, n_estimators=700, n_jobs=-1, num_leaves=900) \n",
    "model_lgb.fit(features_train, target_train)\n",
    "cut_time = time.time()\n",
    "print(\"Затраченное время (сек) =\", cut_time - start_time)"
   ]
  },
  {
   "cell_type": "code",
   "execution_count": 18,
   "metadata": {},
   "outputs": [
    {
     "name": "stdout",
     "output_type": "stream",
     "text": [
      "Затраченное время (сек) = 10.178069353103638\n",
      "F1-мера: 0.7528735632183908\n"
     ]
    }
   ],
   "source": [
    "#Расчитаем F1 для модели.\n",
    "start_time = time.time()\n",
    "predicted_lgb = model_lgb.predict(features_test)\n",
    "f1_lgb = f1_score(target_test, predicted_lgb)\n",
    "cut_time = time.time()\n",
    "print(\"Затраченное время (сек) =\", cut_time - start_time)\n",
    "print('F1-мера:', f1_lgb)"
   ]
  },
  {
   "cell_type": "markdown",
   "metadata": {},
   "source": [
    "**Обучим модель градиентного бустинга LightGBM, сделав веса классов сбалансированными. Придадим объектам редкого класса больший вес.**"
   ]
  },
  {
   "cell_type": "code",
   "execution_count": 19,
   "metadata": {},
   "outputs": [
    {
     "name": "stdout",
     "output_type": "stream",
     "text": [
      "Затраченное время (сек) = 1211.5259873867035\n"
     ]
    }
   ],
   "source": [
    "#Обучим модель градиентного бустинга LightGBM, сделав веса классов сбалансированными. \n",
    "#Придадим объектам редкого класса больший вес.\n",
    "start_time = time.time()\n",
    "warnings.filterwarnings(\"ignore\", category=DataConversionWarning)\n",
    "\n",
    "model_lgb = LGBMClassifier(learning_rate=0.1, max_depth=6, n_estimators=700, \n",
    "                           n_jobs=-1, num_leaves=900, class_weight='balanced') \n",
    "model_lgb.fit(features_train, target_train)\n",
    "cut_time = time.time()\n",
    "print(\"Затраченное время (сек) =\", cut_time - start_time)"
   ]
  },
  {
   "cell_type": "code",
   "execution_count": 20,
   "metadata": {},
   "outputs": [
    {
     "name": "stdout",
     "output_type": "stream",
     "text": [
      "Затраченное время (сек) = 10.275203227996826\n",
      "F1-мера: 0.7458793177583488\n"
     ]
    }
   ],
   "source": [
    "#Расчитаем F1 для модели.\n",
    "start_time = time.time()\n",
    "predicted_lgb = model_lgb.predict(features_test)\n",
    "f1_lgb = f1_score(target_test, predicted_lgb)\n",
    "cut_time = time.time()\n",
    "print(\"Затраченное время (сек) =\", cut_time - start_time)\n",
    "print('F1-мера:', f1_lgb)"
   ]
  },
  {
   "cell_type": "markdown",
   "metadata": {},
   "source": [
    "**Вывод**\n",
    "\n",
    "- Точность уменьшилась: F1-мера с 0.753 до 0.745.\n",
    "- Скорость обучения стала ниже в 1,01 раза.\n",
    "- Скорость расчета прогноза стала ниже в 0,98 раза."
   ]
  },
  {
   "cell_type": "markdown",
   "metadata": {},
   "source": [
    "**Итоги после борьбы с дисбалансом классов.**\n",
    "\n",
    "Значения метрики F1, полученные на разных моделях:\n",
    "- LogisticRegression: 0.7649937089333148\n",
    "- LightGBM: 0.7451036866359446\n",
    "\n",
    "Результат LightGBM стал неудовлетворяющим условиям. До борьбы с дисбалансом результат удовлетворял: 0.7531019600791224."
   ]
  },
  {
   "cell_type": "markdown",
   "metadata": {},
   "source": [
    "## Выводы"
   ]
  },
  {
   "cell_type": "markdown",
   "metadata": {},
   "source": [
    "В качестве инструмента, который будет искать токсичные комментарии и отправлять их на модерацию, предлагаем использовать модель LogisticRegression после борьбы с дисбалансом классов:\n",
    "\n",
    "- значение метрики качества F1 на ней требуемого уровня:  0.7649937089333148 (выше, чем на модели LightGBM),\n",
    "- скорость обучения высокая - 1.2 сек,\n",
    "- скорость пресдказания и расчета метрики высокая - 0.0068 сек."
   ]
  }
 ],
 "metadata": {
  "kernelspec": {
   "display_name": "Python 3",
   "language": "python",
   "name": "python3"
  },
  "language_info": {
   "codemirror_mode": {
    "name": "ipython",
    "version": 3
   },
   "file_extension": ".py",
   "mimetype": "text/x-python",
   "name": "python",
   "nbconvert_exporter": "python",
   "pygments_lexer": "ipython3",
   "version": "3.8.5"
  },
  "toc": {
   "base_numbering": 1,
   "nav_menu": {},
   "number_sections": true,
   "sideBar": true,
   "skip_h1_title": false,
   "title_cell": "Table of Contents",
   "title_sidebar": "Contents",
   "toc_cell": false,
   "toc_position": {},
   "toc_section_display": true,
   "toc_window_display": false
  }
 },
 "nbformat": 4,
 "nbformat_minor": 2
}
